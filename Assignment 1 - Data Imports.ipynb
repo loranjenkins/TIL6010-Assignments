{
 "cells": [
  {
   "cell_type": "markdown",
   "metadata": {},
   "source": [
    "## General requirements for the assignment\n",
    "- Make appropriate comments to your code\n",
    "- Use Markdown cells to provide your answers (when applicable)\n",
    "- Add your code when there is the comment \"YOUR CODE HERE\".\n",
    "- Stick to Pep8 standard as much as possible for your coding\n",
    "- Submit through GitHub\n",
    "- Tag the commit as *Final submission of Assignment 1*\n",
    "- Post (interesting) errors in the course Github's issue page\n",
    "  \n",
    "## Assignment Intro\n",
    "In this assignment, you will be working with data imports. Data is provided to you both to be downloaded locally and accessed remotely. The final deliverable for the assignment is this ipython notebook with the executed cells active and submitted through your personal GitHub accounts. You will be importing data, conduct some basic data exploration and finally exporting the data and saving it for future use.  \n",
    "\n",
    "You will be working with this data for the other two GO/NOGO assignments as well. The data is from the Google mobility report. You can find more information about this data here: <https://www.google.com/covid19/mobility/data_documentation.html?hl=en>.\n",
    "\n",
    "### DEADLINE FOR THIS ASSIGNMENT IS 17 SEPTEMBER 2021 BEFORE 23:59\n",
    "\n",
    "<hr />\n"
   ]
  },
  {
   "cell_type": "markdown",
   "metadata": {},
   "source": [
    "## Import libraries\n",
    "Update this list as you go along with the assignment"
   ]
  },
  {
   "cell_type": "code",
   "execution_count": 3,
   "metadata": {},
   "outputs": [],
   "source": [
    "# import libraries\n",
    "import os\n",
    "import pandas as pd\n",
    "import requests\n",
    "import matplotlib.pyplot as plt\n",
    "\n"
   ]
  },
  {
   "cell_type": "markdown",
   "metadata": {},
   "source": [
    "# PART I - Data Import and Export"
   ]
  },
  {
   "cell_type": "markdown",
   "metadata": {},
   "source": [
    "#### 1. Download mobility data from this [link](https://www.google.com/covid19/mobility/), choose *Region CSVs*. From the downloaded data, pick a country to work with. Why did you choose this country?"
   ]
  },
  {
   "cell_type": "code",
   "execution_count": 6,
   "metadata": {},
   "outputs": [],
   "source": [
    "# path to the downloaded data folder, e.g. 'Downloads/Region_Mobility_Report_CSVs/'\n",
    "data_dir = (r'C:\\Users\\loran\\Desktop\\Mechanical engineering - Delft\\Master\\2nd - Q1\\Programming\\Region_Mobility_Report_CSVs')\n",
    "country_code = 'NL'\n"
   ]
  },
  {
   "cell_type": "markdown",
   "metadata": {},
   "source": [
    "#### 2. Find the path to the data of your selection. We have prepared some sample code. You need to fill in some parts indicated by 'YOUR CODE HERE'."
   ]
  },
  {
   "cell_type": "code",
   "execution_count": 7,
   "metadata": {},
   "outputs": [
    {
     "name": "stdout",
     "output_type": "stream",
     "text": [
      "Found file name is: 2020_NL\n",
      "Path to the file is: C:\\Users\\loran\\Desktop\\Mechanical engineering - Delft\\Master\\2nd - Q1\\Programming\\Region_Mobility_Report_CSVs\n"
     ]
    }
   ],
   "source": [
    "all_files = os.listdir(data_dir)\n",
    "# initilisation\n",
    "target_file_name = ''\n",
    "year = '2020'\n",
    "\n",
    "for file_name in all_files:\n",
    "    # check if this file is for 2020\n",
    "    is_year = '2020_'\n",
    "    # if yes, we check if the file name is for the country that you select\n",
    "    if is_year:\n",
    "        # check if the country_code is in the file_name\n",
    "        is_country = country_code\n",
    "        if is_country:\n",
    "            # found the file, save it to 'target_file_name'\n",
    "            target_file_name = is_year + country_code\n",
    "            # we stop looking by breaking out of the for loop\n",
    "            break\n",
    "if not target_file_name:\n",
    "    print('File not found. Check your country code (or select a different one)!')\n",
    "else:\n",
    "    print('Found file name is: ' + target_file_name)\n",
    "    # get the path to the file\n",
    "    file_path = data_dir\n",
    "    print('Path to the file is: ' + file_path)\n"
   ]
  },
  {
   "cell_type": "markdown",
   "metadata": {},
   "source": [
    "#### 3. Import the 2020 data for this country as a pandas data frame and name it as `df_2020`. Print the first 10 lines of `df_2020`"
   ]
  },
  {
   "cell_type": "code",
   "execution_count": 6,
   "metadata": {},
   "outputs": [
    {
     "name": "stdout",
     "output_type": "stream",
     "text": [
      "  country_region_code country_region sub_region_1 sub_region_2  metro_area  \\\n",
      "0                  NL    Netherlands          NaN          NaN         NaN   \n",
      "1                  NL    Netherlands          NaN          NaN         NaN   \n",
      "2                  NL    Netherlands          NaN          NaN         NaN   \n",
      "3                  NL    Netherlands          NaN          NaN         NaN   \n",
      "4                  NL    Netherlands          NaN          NaN         NaN   \n",
      "5                  NL    Netherlands          NaN          NaN         NaN   \n",
      "6                  NL    Netherlands          NaN          NaN         NaN   \n",
      "7                  NL    Netherlands          NaN          NaN         NaN   \n",
      "8                  NL    Netherlands          NaN          NaN         NaN   \n",
      "9                  NL    Netherlands          NaN          NaN         NaN   \n",
      "\n",
      "  iso_3166_2_code  census_fips_code                     place_id        date  \\\n",
      "0             NaN               NaN  ChIJu-SH28MJxkcRnwq9_851obM  2020-02-15   \n",
      "1             NaN               NaN  ChIJu-SH28MJxkcRnwq9_851obM  2020-02-16   \n",
      "2             NaN               NaN  ChIJu-SH28MJxkcRnwq9_851obM  2020-02-17   \n",
      "3             NaN               NaN  ChIJu-SH28MJxkcRnwq9_851obM  2020-02-18   \n",
      "4             NaN               NaN  ChIJu-SH28MJxkcRnwq9_851obM  2020-02-19   \n",
      "5             NaN               NaN  ChIJu-SH28MJxkcRnwq9_851obM  2020-02-20   \n",
      "6             NaN               NaN  ChIJu-SH28MJxkcRnwq9_851obM  2020-02-21   \n",
      "7             NaN               NaN  ChIJu-SH28MJxkcRnwq9_851obM  2020-02-22   \n",
      "8             NaN               NaN  ChIJu-SH28MJxkcRnwq9_851obM  2020-02-23   \n",
      "9             NaN               NaN  ChIJu-SH28MJxkcRnwq9_851obM  2020-02-24   \n",
      "\n",
      "   retail_and_recreation_percent_change_from_baseline  \\\n",
      "0                                                1.0    \n",
      "1                                              -10.0    \n",
      "2                                                0.0    \n",
      "3                                                5.0    \n",
      "4                                                3.0    \n",
      "5                                                1.0    \n",
      "6                                                8.0    \n",
      "7                                                1.0    \n",
      "8                                                1.0    \n",
      "9                                                9.0    \n",
      "\n",
      "   grocery_and_pharmacy_percent_change_from_baseline  \\\n",
      "0                                                1.0   \n",
      "1                                               -8.0   \n",
      "2                                               -1.0   \n",
      "3                                                4.0   \n",
      "4                                                0.0   \n",
      "5                                               -1.0   \n",
      "6                                                4.0   \n",
      "7                                               -2.0   \n",
      "8                                              -11.0   \n",
      "9                                               -7.0   \n",
      "\n",
      "   parks_percent_change_from_baseline  \\\n",
      "0                                11.0   \n",
      "1                               -31.0   \n",
      "2                                 8.0   \n",
      "3                                21.0   \n",
      "4                                20.0   \n",
      "5                                -5.0   \n",
      "6                                22.0   \n",
      "7                                -2.0   \n",
      "8                               -26.0   \n",
      "9                                 4.0   \n",
      "\n",
      "   transit_stations_percent_change_from_baseline  \\\n",
      "0                                            3.0   \n",
      "1                                           -5.0   \n",
      "2                                           -3.0   \n",
      "3                                           -3.0   \n",
      "4                                           -3.0   \n",
      "5                                           -3.0   \n",
      "6                                            1.0   \n",
      "7                                           10.0   \n",
      "8                                            2.0   \n",
      "9                                           -4.0   \n",
      "\n",
      "   workplaces_percent_change_from_baseline  \\\n",
      "0                                      0.0   \n",
      "1                                     -3.0   \n",
      "2                                     -5.0   \n",
      "3                                     -5.0   \n",
      "4                                     -5.0   \n",
      "5                                     -6.0   \n",
      "6                                     -9.0   \n",
      "7                                     -4.0   \n",
      "8                                     -3.0   \n",
      "9                                    -21.0   \n",
      "\n",
      "   residential_percent_change_from_baseline  \n",
      "0                                       0.0  \n",
      "1                                       2.0  \n",
      "2                                       1.0  \n",
      "3                                       1.0  \n",
      "4                                       1.0  \n",
      "5                                       1.0  \n",
      "6                                       0.0  \n",
      "7                                       0.0  \n",
      "8                                       0.0  \n",
      "9                                       3.0  \n"
     ]
    }
   ],
   "source": [
    "df_2020 = pd.read_csv(r'C:\\Users\\loran\\Desktop\\Mechanical engineering - Delft\\Master\\2nd - Q1\\Programming\\2020_NL_Region_Mobility_Report.csv')\n",
    "print(df_2020.head(10))"
   ]
  },
  {
   "cell_type": "markdown",
   "metadata": {},
   "source": [
    "#### We have also stored the data in a remote server. The data for a particular country can be retrieved with the following API:\n",
    "`http://mirrors-dev.citg.tudelft.nl:8083/google-mobility-data/{yy}/{CC}` \n",
    "#### where yy is either 2020 or 2021, and CC is a 2-letter country code. For example, to get data for 2020 for the Netherlands, the API will be: <http://mirrors-dev.citg.tudelft.nl:8083/google-mobility-data/2020/NL>\n"
   ]
  },
  {
   "cell_type": "markdown",
   "metadata": {},
   "source": [
    "#### 4. Download the mobility report data of **2021** for the same country (that you have chosen above) using this API and name it as `df_2021`.  Print the first 10 lines of the dataframe"
   ]
  },
  {
   "cell_type": "code",
   "execution_count": 7,
   "metadata": {},
   "outputs": [
    {
     "name": "stdout",
     "output_type": "stream",
     "text": [
      "  country_region_code country_region sub_region_1 sub_region_2  metro_area  \\\n",
      "0                  NL    Netherlands          NaN          NaN         NaN   \n",
      "1                  NL    Netherlands          NaN          NaN         NaN   \n",
      "2                  NL    Netherlands          NaN          NaN         NaN   \n",
      "3                  NL    Netherlands          NaN          NaN         NaN   \n",
      "4                  NL    Netherlands          NaN          NaN         NaN   \n",
      "5                  NL    Netherlands          NaN          NaN         NaN   \n",
      "6                  NL    Netherlands          NaN          NaN         NaN   \n",
      "7                  NL    Netherlands          NaN          NaN         NaN   \n",
      "8                  NL    Netherlands          NaN          NaN         NaN   \n",
      "9                  NL    Netherlands          NaN          NaN         NaN   \n",
      "\n",
      "  iso_3166_2_code  census_fips_code                     place_id        date  \\\n",
      "0             NaN               NaN  ChIJu-SH28MJxkcRnwq9_851obM  2021-01-01   \n",
      "1             NaN               NaN  ChIJu-SH28MJxkcRnwq9_851obM  2021-01-02   \n",
      "2             NaN               NaN  ChIJu-SH28MJxkcRnwq9_851obM  2021-01-03   \n",
      "3             NaN               NaN  ChIJu-SH28MJxkcRnwq9_851obM  2021-01-04   \n",
      "4             NaN               NaN  ChIJu-SH28MJxkcRnwq9_851obM  2021-01-05   \n",
      "5             NaN               NaN  ChIJu-SH28MJxkcRnwq9_851obM  2021-01-06   \n",
      "6             NaN               NaN  ChIJu-SH28MJxkcRnwq9_851obM  2021-01-07   \n",
      "7             NaN               NaN  ChIJu-SH28MJxkcRnwq9_851obM  2021-01-08   \n",
      "8             NaN               NaN  ChIJu-SH28MJxkcRnwq9_851obM  2021-01-09   \n",
      "9             NaN               NaN  ChIJu-SH28MJxkcRnwq9_851obM  2021-01-10   \n",
      "\n",
      "   retail_and_recreation_percent_change_from_baseline  \\\n",
      "0                                              -79.0    \n",
      "1                                              -65.0    \n",
      "2                                              -62.0    \n",
      "3                                              -52.0    \n",
      "4                                              -52.0    \n",
      "5                                              -53.0    \n",
      "6                                              -58.0    \n",
      "7                                              -55.0    \n",
      "8                                              -59.0    \n",
      "9                                              -60.0    \n",
      "\n",
      "   grocery_and_pharmacy_percent_change_from_baseline  \\\n",
      "0                                              -77.0   \n",
      "1                                              -17.0   \n",
      "2                                              -19.0   \n",
      "3                                              -12.0   \n",
      "4                                               -8.0   \n",
      "5                                               -9.0   \n",
      "6                                              -15.0   \n",
      "7                                               -9.0   \n",
      "8                                               -9.0   \n",
      "9                                              -14.0   \n",
      "\n",
      "   parks_percent_change_from_baseline  \\\n",
      "0                                 5.0   \n",
      "1                                 0.0   \n",
      "2                                 3.0   \n",
      "3                               -23.0   \n",
      "4                                -8.0   \n",
      "5                                -2.0   \n",
      "6                               -32.0   \n",
      "7                                 0.0   \n",
      "8                                19.0   \n",
      "9                                23.0   \n",
      "\n",
      "   transit_stations_percent_change_from_baseline  \\\n",
      "0                                          -75.0   \n",
      "1                                          -59.0   \n",
      "2                                          -56.0   \n",
      "3                                          -62.0   \n",
      "4                                          -61.0   \n",
      "5                                          -58.0   \n",
      "6                                          -62.0   \n",
      "7                                          -57.0   \n",
      "8                                          -52.0   \n",
      "9                                          -52.0   \n",
      "\n",
      "   workplaces_percent_change_from_baseline  \\\n",
      "0                                    -83.0   \n",
      "1                                    -22.0   \n",
      "2                                    -12.0   \n",
      "3                                    -41.0   \n",
      "4                                    -41.0   \n",
      "5                                    -37.0   \n",
      "6                                    -39.0   \n",
      "7                                    -35.0   \n",
      "8                                    -12.0   \n",
      "9                                     -9.0   \n",
      "\n",
      "   residential_percent_change_from_baseline  \n",
      "0                                      24.0  \n",
      "1                                      12.0  \n",
      "2                                       8.0  \n",
      "3                                      16.0  \n",
      "4                                      16.0  \n",
      "5                                      15.0  \n",
      "6                                      17.0  \n",
      "7                                      15.0  \n",
      "8                                      10.0  \n",
      "9                                       7.0  \n"
     ]
    }
   ],
   "source": [
    "df_2021 = pd.read_csv(\"http://mirrors-dev.citg.tudelft.nl:8083/google-mobility-data/2021/NL\")\n",
    "df_2021 = pd.DataFrame(df_2021)\n",
    "print(df_2021.head(10))\n"
   ]
  },
  {
   "cell_type": "markdown",
   "metadata": {},
   "source": [
    "#### 5. Combine the two dataframes `df_2020` and `df_2021` into a new dataframe `df`. Print the last 10 lines of `df`."
   ]
  },
  {
   "cell_type": "code",
   "execution_count": 8,
   "metadata": {},
   "outputs": [
    {
     "name": "stdout",
     "output_type": "stream",
     "text": [
      "      country_region_code country_region sub_region_1 sub_region_2  \\\n",
      "88539                  NL    Netherlands      Zeeland        Veere   \n",
      "88540                  NL    Netherlands      Zeeland        Veere   \n",
      "88541                  NL    Netherlands      Zeeland        Veere   \n",
      "88542                  NL    Netherlands      Zeeland        Veere   \n",
      "88543                  NL    Netherlands      Zeeland        Veere   \n",
      "88544                  NL    Netherlands      Zeeland        Veere   \n",
      "88545                  NL    Netherlands      Zeeland        Veere   \n",
      "88546                  NL    Netherlands      Zeeland        Veere   \n",
      "88547                  NL    Netherlands      Zeeland        Veere   \n",
      "88548                  NL    Netherlands      Zeeland        Veere   \n",
      "\n",
      "       metro_area iso_3166_2_code  census_fips_code  \\\n",
      "88539         NaN             NaN               NaN   \n",
      "88540         NaN             NaN               NaN   \n",
      "88541         NaN             NaN               NaN   \n",
      "88542         NaN             NaN               NaN   \n",
      "88543         NaN             NaN               NaN   \n",
      "88544         NaN             NaN               NaN   \n",
      "88545         NaN             NaN               NaN   \n",
      "88546         NaN             NaN               NaN   \n",
      "88547         NaN             NaN               NaN   \n",
      "88548         NaN             NaN               NaN   \n",
      "\n",
      "                          place_id        date  \\\n",
      "88539  ChIJa7uf-GcjxEcRpGJlbS6aq8s  2021-08-23   \n",
      "88540  ChIJa7uf-GcjxEcRpGJlbS6aq8s  2021-08-24   \n",
      "88541  ChIJa7uf-GcjxEcRpGJlbS6aq8s  2021-08-25   \n",
      "88542  ChIJa7uf-GcjxEcRpGJlbS6aq8s  2021-08-26   \n",
      "88543  ChIJa7uf-GcjxEcRpGJlbS6aq8s  2021-08-27   \n",
      "88544  ChIJa7uf-GcjxEcRpGJlbS6aq8s  2021-08-28   \n",
      "88545  ChIJa7uf-GcjxEcRpGJlbS6aq8s  2021-08-29   \n",
      "88546  ChIJa7uf-GcjxEcRpGJlbS6aq8s  2021-08-30   \n",
      "88547  ChIJa7uf-GcjxEcRpGJlbS6aq8s  2021-08-31   \n",
      "88548  ChIJa7uf-GcjxEcRpGJlbS6aq8s  2021-09-01   \n",
      "\n",
      "       retail_and_recreation_percent_change_from_baseline  \\\n",
      "88539                                                NaN    \n",
      "88540                                                NaN    \n",
      "88541                                                NaN    \n",
      "88542                                                NaN    \n",
      "88543                                                NaN    \n",
      "88544                                                NaN    \n",
      "88545                                                NaN    \n",
      "88546                                                NaN    \n",
      "88547                                                NaN    \n",
      "88548                                                NaN    \n",
      "\n",
      "       grocery_and_pharmacy_percent_change_from_baseline  \\\n",
      "88539                                                NaN   \n",
      "88540                                                NaN   \n",
      "88541                                                NaN   \n",
      "88542                                                NaN   \n",
      "88543                                                NaN   \n",
      "88544                                                NaN   \n",
      "88545                                                NaN   \n",
      "88546                                                NaN   \n",
      "88547                                                NaN   \n",
      "88548                                                NaN   \n",
      "\n",
      "       parks_percent_change_from_baseline  \\\n",
      "88539                                 NaN   \n",
      "88540                                 NaN   \n",
      "88541                                 NaN   \n",
      "88542                                 NaN   \n",
      "88543                                 NaN   \n",
      "88544                               311.0   \n",
      "88545                               237.0   \n",
      "88546                                 NaN   \n",
      "88547                                 NaN   \n",
      "88548                                 NaN   \n",
      "\n",
      "       transit_stations_percent_change_from_baseline  \\\n",
      "88539                                            NaN   \n",
      "88540                                            NaN   \n",
      "88541                                            NaN   \n",
      "88542                                            NaN   \n",
      "88543                                            NaN   \n",
      "88544                                            NaN   \n",
      "88545                                            NaN   \n",
      "88546                                            NaN   \n",
      "88547                                            NaN   \n",
      "88548                                            NaN   \n",
      "\n",
      "       workplaces_percent_change_from_baseline  \\\n",
      "88539                                    -29.0   \n",
      "88540                                    -24.0   \n",
      "88541                                    -29.0   \n",
      "88542                                    -29.0   \n",
      "88543                                    -23.0   \n",
      "88544                                      NaN   \n",
      "88545                                      NaN   \n",
      "88546                                    -20.0   \n",
      "88547                                    -15.0   \n",
      "88548                                    -19.0   \n",
      "\n",
      "       residential_percent_change_from_baseline  \n",
      "88539                                       4.0  \n",
      "88540                                       3.0  \n",
      "88541                                       4.0  \n",
      "88542                                       6.0  \n",
      "88543                                       3.0  \n",
      "88544                                       NaN  \n",
      "88545                                       NaN  \n",
      "88546                                       4.0  \n",
      "88547                                       3.0  \n",
      "88548                                       3.0  \n"
     ]
    }
   ],
   "source": [
    "df = pd.concat([df_2020,df_2021])\n",
    "print(df.iloc[-10:])\n"
   ]
  },
  {
   "cell_type": "markdown",
   "metadata": {},
   "source": [
    "#### 6. `df` now contains mobility data for your selected country from 2020 and 2021. There are three aggregation levels to this data, namely national (`country_region`), provincial (`sub_region_1`), and city (`sub_region_2`). Separate these data into three different dataframes, namely `df_nation`, `df_province`, and `df_city`.  Print the first 5 lines of each of them.  \n",
    "\n",
    "Hint:\n",
    "- For the national data, `sub_region_1` and `sub_region_2` are NaN.\n",
    "- For the provincial data, `sub_region_2` is NaN.\n",
    "- For the city data, `country_region`, `sub_region_1` and `sub_region_2` are not NaN.\n",
    "- Logical operators: <https://realpython.com/python-bitwise-operators/>\n",
    "- Use pandas [isna()](https://pandas.pydata.org/docs/reference/api/pandas.DataFrame.isna.html) function "
   ]
  },
  {
   "cell_type": "code",
   "execution_count": 9,
   "metadata": {},
   "outputs": [
    {
     "name": "stdout",
     "output_type": "stream",
     "text": [
      "   country_region_code  country_region\n",
      "0                False           False\n",
      "1                False           False\n",
      "2                False           False\n",
      "3                False           False\n",
      "4                False           False\n",
      "   sub_region_1\n",
      "0          True\n",
      "1          True\n",
      "2          True\n",
      "3          True\n",
      "4          True\n",
      "   sub_region_2\n",
      "0          True\n",
      "1          True\n",
      "2          True\n",
      "3          True\n",
      "4          True\n"
     ]
    }
   ],
   "source": [
    "df_nation = df[['country_region_code','country_region']]\n",
    "df_nation = df_nation.head(5) #I use head / iloc both just to train myself\n",
    "\n",
    "df_province = df[[\"sub_region_1\"]]\n",
    "df_province = df_province.iloc[0:5:]\n",
    "\n",
    "df_city= df[[\"sub_region_2\"]]\n",
    "df_city = df_city.iloc[0:5:]\n",
    "\n",
    "print(df_nation.isna())\n",
    "print(df_province.isna())\n",
    "print(df_city.isna())"
   ]
  },
  {
   "cell_type": "markdown",
   "metadata": {},
   "source": [
    "#### 7. Save `df_nation`, `df_province`, and `df_city` into csv files under folder 'processed_data', and locate this folder under `data_dir`. Name the files `{CC}_nation.csv`, `{CC}_province.csv`, and `{CC}_city.csv`, respectively. `{CC}` stands for your selected country code."
   ]
  },
  {
   "cell_type": "code",
   "execution_count": 24,
   "metadata": {},
   "outputs": [],
   "source": [
    "df_nation.to_csv (r'C:\\Users\\loran\\PycharmProjects\\TIL6010-Assignments\\data_dir\\processed_data\\NL_df_nation.to_csv', index = False, header=True)\n",
    "df_province.to_csv (r'C:\\Users\\loran\\PycharmProjects\\TIL6010-Assignments\\data_dir\\processed_data\\NL_df_province.to_csv', index = False, header=True)\n",
    "df_city.to_csv (r'C:\\Users\\loran\\PycharmProjects\\TIL6010-Assignments\\data_dir\\processed_data\\NL_df_city.to_csv', index = False, header=True)\n"
   ]
  },
  {
   "cell_type": "markdown",
   "metadata": {},
   "source": [
    "<hr />"
   ]
  },
  {
   "cell_type": "markdown",
   "metadata": {},
   "source": [
    "# PART II - Simple Data Processing"
   ]
  },
  {
   "cell_type": "markdown",
   "metadata": {},
   "source": [
    "#### 1. There are multiple activities in the mobility report such as workplaces, parks, transit stations, etc. For each of the activities, what are the average percent changes from baselines for your selected country?"
   ]
  },
  {
   "cell_type": "code",
   "execution_count": 13,
   "metadata": {},
   "outputs": [
    {
     "name": "stdout",
     "output_type": "stream",
     "text": [
      "workplaces_percent_change_from_baseline   -26.279004\n",
      "dtype: float64\n",
      "40.253287709711195\n",
      "transit_stations_percent_change_from_baseline   -35.957242\n",
      "dtype: float64\n"
     ]
    }
   ],
   "source": [
    "df_nation_workplace = df[['workplaces_percent_change_from_baseline']].mean() #This style also prints name of column\n",
    "df_nation_parks = df.get('parks_percent_change_from_baseline').mean()  #this style does only print mean value\n",
    "df_nation_transit_stations = df[['transit_stations_percent_change_from_baseline']].mean()\n",
    "print(df_nation_workplace)\n",
    "print(df_nation_parks)\n",
    "print(df_nation_transit_stations)\n"
   ]
  },
  {
   "cell_type": "markdown",
   "metadata": {},
   "source": [
    "#### 2. Let's look into data from different provinces. How many provinces are there in the data of your selected country? Print all of them."
   ]
  },
  {
   "cell_type": "code",
   "execution_count": 15,
   "metadata": {},
   "outputs": [
    {
     "name": "stdout",
     "output_type": "stream",
     "text": [
      "sub_region_1    198225\n",
      "dtype: int64\n"
     ]
    }
   ],
   "source": [
    "df_province = df[[\"sub_region_1\"]]\n",
    "amount_provinces_total = df_province.count()\n",
    "print(amount_provinces_total)\n"
   ]
  },
  {
   "cell_type": "markdown",
   "metadata": {},
   "source": [
    "#### 3. You can get a summary of each of the provinces using pandas describe function. Using this, find which province experienced the largest (average) changes in workplaces."
   ]
  },
  {
   "cell_type": "code",
   "execution_count": 19,
   "metadata": {},
   "outputs": [
    {
     "name": "stdout",
     "output_type": "stream",
     "text": [
      "sub_region_1   workplaces_percent_change_from_baseline\n",
      "North Brabant  -24.0                                      979\n",
      "               -22.0                                      960\n",
      "               -25.0                                      940\n",
      "               -23.0                                      932\n",
      "               -26.0                                      862\n",
      "                                                         ... \n",
      "               -89.0                                        1\n",
      "                30.0                                        1\n",
      "                32.0                                        1\n",
      "                36.0                                        1\n",
      "Zeeland         66.0                                        1\n",
      "Length: 1512, dtype: int64\n",
      "Province with highest workplace is: sub_region_1  workplaces_percent_change_from_baseline\n",
      "Zeeland       66.0                                       1\n",
      "dtype: int64\n"
     ]
    }
   ],
   "source": [
    "df_province1 = df[[\"sub_region_1\", \"workplaces_percent_change_from_baseline\"]]\n",
    "amount_provinces = df_province1.value_counts() #here it is sorted in ascending order so we just take last line\n",
    "print(amount_provinces)\n",
    "province_highest_value = amount_provinces.iloc[-1:] #get the highest value\n",
    "print('Province with highest workplace is: ' + str(province_highest_value))\n",
    "\n"
   ]
  },
  {
   "cell_type": "markdown",
   "metadata": {},
   "source": [
    "#### 4. Create a new dataframe that only contains data from the province with the largest changes in workplaces, which you found in the previous question."
   ]
  },
  {
   "cell_type": "code",
   "execution_count": 20,
   "metadata": {},
   "outputs": [
    {
     "name": "stdout",
     "output_type": "stream",
     "text": [
      "       country_region_code country_region sub_region_1 sub_region_2  \\\n",
      "106281                  NL    Netherlands      Zeeland          NaN   \n",
      "106282                  NL    Netherlands      Zeeland          NaN   \n",
      "106283                  NL    Netherlands      Zeeland          NaN   \n",
      "106284                  NL    Netherlands      Zeeland          NaN   \n",
      "106285                  NL    Netherlands      Zeeland          NaN   \n",
      "...                    ...            ...          ...          ...   \n",
      "88544                   NL    Netherlands      Zeeland        Veere   \n",
      "88545                   NL    Netherlands      Zeeland        Veere   \n",
      "88546                   NL    Netherlands      Zeeland        Veere   \n",
      "88547                   NL    Netherlands      Zeeland        Veere   \n",
      "88548                   NL    Netherlands      Zeeland        Veere   \n",
      "\n",
      "        metro_area iso_3166_2_code  census_fips_code  \\\n",
      "106281         NaN           NL-ZE               NaN   \n",
      "106282         NaN           NL-ZE               NaN   \n",
      "106283         NaN           NL-ZE               NaN   \n",
      "106284         NaN           NL-ZE               NaN   \n",
      "106285         NaN           NL-ZE               NaN   \n",
      "...            ...             ...               ...   \n",
      "88544          NaN             NaN               NaN   \n",
      "88545          NaN             NaN               NaN   \n",
      "88546          NaN             NaN               NaN   \n",
      "88547          NaN             NaN               NaN   \n",
      "88548          NaN             NaN               NaN   \n",
      "\n",
      "                           place_id        date  \\\n",
      "106281  ChIJyfyksadZxEcRt6HidhtRRCo  2020-02-15   \n",
      "106282  ChIJyfyksadZxEcRt6HidhtRRCo  2020-02-16   \n",
      "106283  ChIJyfyksadZxEcRt6HidhtRRCo  2020-02-17   \n",
      "106284  ChIJyfyksadZxEcRt6HidhtRRCo  2020-02-18   \n",
      "106285  ChIJyfyksadZxEcRt6HidhtRRCo  2020-02-19   \n",
      "...                             ...         ...   \n",
      "88544   ChIJa7uf-GcjxEcRpGJlbS6aq8s  2021-08-28   \n",
      "88545   ChIJa7uf-GcjxEcRpGJlbS6aq8s  2021-08-29   \n",
      "88546   ChIJa7uf-GcjxEcRpGJlbS6aq8s  2021-08-30   \n",
      "88547   ChIJa7uf-GcjxEcRpGJlbS6aq8s  2021-08-31   \n",
      "88548   ChIJa7uf-GcjxEcRpGJlbS6aq8s  2021-09-01   \n",
      "\n",
      "        retail_and_recreation_percent_change_from_baseline  \\\n",
      "106281                                                7.0    \n",
      "106282                                               -7.0    \n",
      "106283                                               -1.0    \n",
      "106284                                               10.0    \n",
      "106285                                                5.0    \n",
      "...                                                   ...    \n",
      "88544                                                 NaN    \n",
      "88545                                                 NaN    \n",
      "88546                                                 NaN    \n",
      "88547                                                 NaN    \n",
      "88548                                                 NaN    \n",
      "\n",
      "        grocery_and_pharmacy_percent_change_from_baseline  \\\n",
      "106281                                                4.0   \n",
      "106282                                               -9.0   \n",
      "106283                                                3.0   \n",
      "106284                                                8.0   \n",
      "106285                                                4.0   \n",
      "...                                                   ...   \n",
      "88544                                                 NaN   \n",
      "88545                                                 NaN   \n",
      "88546                                                 NaN   \n",
      "88547                                                 NaN   \n",
      "88548                                                 NaN   \n",
      "\n",
      "        parks_percent_change_from_baseline  \\\n",
      "106281                                17.0   \n",
      "106282                               -27.0   \n",
      "106283                                20.0   \n",
      "106284                                37.0   \n",
      "106285                                32.0   \n",
      "...                                    ...   \n",
      "88544                                311.0   \n",
      "88545                                237.0   \n",
      "88546                                  NaN   \n",
      "88547                                  NaN   \n",
      "88548                                  NaN   \n",
      "\n",
      "        transit_stations_percent_change_from_baseline  \\\n",
      "106281                                            9.0   \n",
      "106282                                           13.0   \n",
      "106283                                            0.0   \n",
      "106284                                            4.0   \n",
      "106285                                            1.0   \n",
      "...                                               ...   \n",
      "88544                                             NaN   \n",
      "88545                                             NaN   \n",
      "88546                                             NaN   \n",
      "88547                                             NaN   \n",
      "88548                                             NaN   \n",
      "\n",
      "        workplaces_percent_change_from_baseline  \\\n",
      "106281                                      3.0   \n",
      "106282                                      0.0   \n",
      "106283                                      3.0   \n",
      "106284                                      4.0   \n",
      "106285                                      4.0   \n",
      "...                                         ...   \n",
      "88544                                       NaN   \n",
      "88545                                       NaN   \n",
      "88546                                     -20.0   \n",
      "88547                                     -15.0   \n",
      "88548                                     -19.0   \n",
      "\n",
      "        residential_percent_change_from_baseline  \n",
      "106281                                       0.0  \n",
      "106282                                       2.0  \n",
      "106283                                       1.0  \n",
      "106284                                       0.0  \n",
      "106285                                       0.0  \n",
      "...                                          ...  \n",
      "88544                                        NaN  \n",
      "88545                                        NaN  \n",
      "88546                                        4.0  \n",
      "88547                                        3.0  \n",
      "88548                                        3.0  \n",
      "\n",
      "[7187 rows x 15 columns]\n"
     ]
    }
   ],
   "source": [
    "df_workplace_high = df.loc[df.sub_region_1.str.contains(\"Zeeland\", na=False)]\n",
    "print(df_workplace_high)\n"
   ]
  },
  {
   "cell_type": "markdown",
   "metadata": {},
   "source": [
    "#### 5. We're going to look at the changes of this province over time. As you can see, the column date is in string format. Convert this str date column data str to datetime format and append as an extra column called 'date2' to the dataframe.  \n",
    "Hint: <https://pandas.pydata.org/docs/reference/api/pandas.to_datetime.html>"
   ]
  },
  {
   "cell_type": "code",
   "execution_count": 21,
   "metadata": {},
   "outputs": [
    {
     "name": "stdout",
     "output_type": "stream",
     "text": [
      "       country_region_code country_region sub_region_1 sub_region_2  \\\n",
      "106281                  NL    Netherlands      Zeeland          NaN   \n",
      "106282                  NL    Netherlands      Zeeland          NaN   \n",
      "106283                  NL    Netherlands      Zeeland          NaN   \n",
      "106284                  NL    Netherlands      Zeeland          NaN   \n",
      "106285                  NL    Netherlands      Zeeland          NaN   \n",
      "...                    ...            ...          ...          ...   \n",
      "88544                   NL    Netherlands      Zeeland        Veere   \n",
      "88545                   NL    Netherlands      Zeeland        Veere   \n",
      "88546                   NL    Netherlands      Zeeland        Veere   \n",
      "88547                   NL    Netherlands      Zeeland        Veere   \n",
      "88548                   NL    Netherlands      Zeeland        Veere   \n",
      "\n",
      "        metro_area iso_3166_2_code  census_fips_code  \\\n",
      "106281         NaN           NL-ZE               NaN   \n",
      "106282         NaN           NL-ZE               NaN   \n",
      "106283         NaN           NL-ZE               NaN   \n",
      "106284         NaN           NL-ZE               NaN   \n",
      "106285         NaN           NL-ZE               NaN   \n",
      "...            ...             ...               ...   \n",
      "88544          NaN             NaN               NaN   \n",
      "88545          NaN             NaN               NaN   \n",
      "88546          NaN             NaN               NaN   \n",
      "88547          NaN             NaN               NaN   \n",
      "88548          NaN             NaN               NaN   \n",
      "\n",
      "                           place_id        date  \\\n",
      "106281  ChIJyfyksadZxEcRt6HidhtRRCo  2020-02-15   \n",
      "106282  ChIJyfyksadZxEcRt6HidhtRRCo  2020-02-16   \n",
      "106283  ChIJyfyksadZxEcRt6HidhtRRCo  2020-02-17   \n",
      "106284  ChIJyfyksadZxEcRt6HidhtRRCo  2020-02-18   \n",
      "106285  ChIJyfyksadZxEcRt6HidhtRRCo  2020-02-19   \n",
      "...                             ...         ...   \n",
      "88544   ChIJa7uf-GcjxEcRpGJlbS6aq8s  2021-08-28   \n",
      "88545   ChIJa7uf-GcjxEcRpGJlbS6aq8s  2021-08-29   \n",
      "88546   ChIJa7uf-GcjxEcRpGJlbS6aq8s  2021-08-30   \n",
      "88547   ChIJa7uf-GcjxEcRpGJlbS6aq8s  2021-08-31   \n",
      "88548   ChIJa7uf-GcjxEcRpGJlbS6aq8s  2021-09-01   \n",
      "\n",
      "        retail_and_recreation_percent_change_from_baseline  \\\n",
      "106281                                                7.0    \n",
      "106282                                               -7.0    \n",
      "106283                                               -1.0    \n",
      "106284                                               10.0    \n",
      "106285                                                5.0    \n",
      "...                                                   ...    \n",
      "88544                                                 NaN    \n",
      "88545                                                 NaN    \n",
      "88546                                                 NaN    \n",
      "88547                                                 NaN    \n",
      "88548                                                 NaN    \n",
      "\n",
      "        grocery_and_pharmacy_percent_change_from_baseline  \\\n",
      "106281                                                4.0   \n",
      "106282                                               -9.0   \n",
      "106283                                                3.0   \n",
      "106284                                                8.0   \n",
      "106285                                                4.0   \n",
      "...                                                   ...   \n",
      "88544                                                 NaN   \n",
      "88545                                                 NaN   \n",
      "88546                                                 NaN   \n",
      "88547                                                 NaN   \n",
      "88548                                                 NaN   \n",
      "\n",
      "        parks_percent_change_from_baseline  \\\n",
      "106281                                17.0   \n",
      "106282                               -27.0   \n",
      "106283                                20.0   \n",
      "106284                                37.0   \n",
      "106285                                32.0   \n",
      "...                                    ...   \n",
      "88544                                311.0   \n",
      "88545                                237.0   \n",
      "88546                                  NaN   \n",
      "88547                                  NaN   \n",
      "88548                                  NaN   \n",
      "\n",
      "        transit_stations_percent_change_from_baseline  \\\n",
      "106281                                            9.0   \n",
      "106282                                           13.0   \n",
      "106283                                            0.0   \n",
      "106284                                            4.0   \n",
      "106285                                            1.0   \n",
      "...                                               ...   \n",
      "88544                                             NaN   \n",
      "88545                                             NaN   \n",
      "88546                                             NaN   \n",
      "88547                                             NaN   \n",
      "88548                                             NaN   \n",
      "\n",
      "        workplaces_percent_change_from_baseline  \\\n",
      "106281                                      3.0   \n",
      "106282                                      0.0   \n",
      "106283                                      3.0   \n",
      "106284                                      4.0   \n",
      "106285                                      4.0   \n",
      "...                                         ...   \n",
      "88544                                       NaN   \n",
      "88545                                       NaN   \n",
      "88546                                     -20.0   \n",
      "88547                                     -15.0   \n",
      "88548                                     -19.0   \n",
      "\n",
      "        residential_percent_change_from_baseline      date2  \n",
      "106281                                       0.0 2020-02-15  \n",
      "106282                                       2.0 2020-02-16  \n",
      "106283                                       1.0 2020-02-17  \n",
      "106284                                       0.0 2020-02-18  \n",
      "106285                                       0.0 2020-02-19  \n",
      "...                                          ...        ...  \n",
      "88544                                        NaN 2021-08-28  \n",
      "88545                                        NaN 2021-08-29  \n",
      "88546                                        4.0 2021-08-30  \n",
      "88547                                        3.0 2021-08-31  \n",
      "88548                                        3.0 2021-09-01  \n",
      "\n",
      "[7187 rows x 16 columns]\n"
     ]
    },
    {
     "name": "stderr",
     "output_type": "stream",
     "text": [
      "D:\\Anaconda3\\envs\\tf2\\lib\\site-packages\\pandas\\core\\indexing.py:1597: SettingWithCopyWarning: \n",
      "A value is trying to be set on a copy of a slice from a DataFrame.\n",
      "Try using .loc[row_indexer,col_indexer] = value instead\n",
      "\n",
      "See the caveats in the documentation: https://pandas.pydata.org/pandas-docs/stable/user_guide/indexing.html#returning-a-view-versus-a-copy\n",
      "  self.obj[key] = value\n",
      "D:\\Anaconda3\\envs\\tf2\\lib\\site-packages\\pandas\\core\\indexing.py:1676: SettingWithCopyWarning: \n",
      "A value is trying to be set on a copy of a slice from a DataFrame.\n",
      "Try using .loc[row_indexer,col_indexer] = value instead\n",
      "\n",
      "See the caveats in the documentation: https://pandas.pydata.org/pandas-docs/stable/user_guide/indexing.html#returning-a-view-versus-a-copy\n",
      "  self._setitem_single_column(ilocs[0], value, pi)\n"
     ]
    }
   ],
   "source": [
    "df_date = df_workplace_high['date']\n",
    "dt_date = pd.to_datetime(df_date)\n",
    "df_workplace_high.loc[:,('date2')] = dt_date\n",
    "print(df_workplace_high)\n"
   ]
  },
  {
   "cell_type": "markdown",
   "metadata": {},
   "source": [
    "#### 6. Sort the data in ascending order of time and save it as 'df_province_largest'"
   ]
  },
  {
   "cell_type": "code",
   "execution_count": 22,
   "metadata": {
    "scrolled": true
   },
   "outputs": [
    {
     "name": "stdout",
     "output_type": "stream",
     "text": [
      "       country_region_code country_region sub_region_1        sub_region_2  \\\n",
      "106281                  NL    Netherlands      Zeeland                 NaN   \n",
      "107153                  NL    Netherlands      Zeeland                Goes   \n",
      "109955                  NL    Netherlands      Zeeland               Veere   \n",
      "107988                  NL    Netherlands      Zeeland          Middelburg   \n",
      "108303                  NL    Netherlands      Zeeland      Noord-Beveland   \n",
      "...                    ...            ...          ...                 ...   \n",
      "86924                   NL    Netherlands      Zeeland          Middelburg   \n",
      "86506                   NL    Netherlands      Zeeland               Hulst   \n",
      "87818                   NL    Netherlands      Zeeland               Sluis   \n",
      "87574                   NL    Netherlands      Zeeland  Schouwen-Duiveland   \n",
      "88548                   NL    Netherlands      Zeeland               Veere   \n",
      "\n",
      "        metro_area iso_3166_2_code  census_fips_code  \\\n",
      "106281         NaN           NL-ZE               NaN   \n",
      "107153         NaN             NaN               NaN   \n",
      "109955         NaN             NaN               NaN   \n",
      "107988         NaN             NaN               NaN   \n",
      "108303         NaN             NaN               NaN   \n",
      "...            ...             ...               ...   \n",
      "86924          NaN             NaN               NaN   \n",
      "86506          NaN             NaN               NaN   \n",
      "87818          NaN             NaN               NaN   \n",
      "87574          NaN             NaN               NaN   \n",
      "88548          NaN             NaN               NaN   \n",
      "\n",
      "                           place_id        date  \\\n",
      "106281  ChIJyfyksadZxEcRt6HidhtRRCo  2020-02-15   \n",
      "107153  ChIJ9YZGPkFLxEcRBJ3SvcVPiCM  2020-02-15   \n",
      "109955  ChIJa7uf-GcjxEcRpGJlbS6aq8s  2020-02-15   \n",
      "107988  ChIJZ1JdBkSOxEcR3nfqRd62SsM  2020-02-15   \n",
      "108303  ChIJ_w8ZPcSPxEcRSx5o6SWwTnQ  2020-02-15   \n",
      "...                             ...         ...   \n",
      "86924   ChIJZ1JdBkSOxEcR3nfqRd62SsM  2021-09-01   \n",
      "86506   ChIJ8dsMUGR3xEcRqXAC-fXPSgI  2021-09-01   \n",
      "87818   ChIJXRVsBuKYxEcRNCfsSS1-0j8  2021-09-01   \n",
      "87574   ChIJ5a7eDAW8xUcRAjvaY4hugBc  2021-09-01   \n",
      "88548   ChIJa7uf-GcjxEcRpGJlbS6aq8s  2021-09-01   \n",
      "\n",
      "        retail_and_recreation_percent_change_from_baseline  \\\n",
      "106281                                                7.0    \n",
      "107153                                               20.0    \n",
      "109955                                               10.0    \n",
      "107988                                               -1.0    \n",
      "108303                                                NaN    \n",
      "...                                                   ...    \n",
      "86924                                                62.0    \n",
      "86506                                                 NaN    \n",
      "87818                                                 NaN    \n",
      "87574                                               110.0    \n",
      "88548                                                 NaN    \n",
      "\n",
      "        grocery_and_pharmacy_percent_change_from_baseline  \\\n",
      "106281                                                4.0   \n",
      "107153                                               -4.0   \n",
      "109955                                                NaN   \n",
      "107988                                               -5.0   \n",
      "108303                                                NaN   \n",
      "...                                                   ...   \n",
      "86924                                                17.0   \n",
      "86506                                                 NaN   \n",
      "87818                                               105.0   \n",
      "87574                                               146.0   \n",
      "88548                                                 NaN   \n",
      "\n",
      "        parks_percent_change_from_baseline  \\\n",
      "106281                                17.0   \n",
      "107153                                10.0   \n",
      "109955                                13.0   \n",
      "107988                                 NaN   \n",
      "108303                                28.0   \n",
      "...                                    ...   \n",
      "86924                                  NaN   \n",
      "86506                                  NaN   \n",
      "87818                                  NaN   \n",
      "87574                                  NaN   \n",
      "88548                                  NaN   \n",
      "\n",
      "        transit_stations_percent_change_from_baseline  \\\n",
      "106281                                            9.0   \n",
      "107153                                           14.0   \n",
      "109955                                            NaN   \n",
      "107988                                           -3.0   \n",
      "108303                                            NaN   \n",
      "...                                               ...   \n",
      "86924                                            -2.0   \n",
      "86506                                             NaN   \n",
      "87818                                             NaN   \n",
      "87574                                             NaN   \n",
      "88548                                             NaN   \n",
      "\n",
      "        workplaces_percent_change_from_baseline  \\\n",
      "106281                                      3.0   \n",
      "107153                                     -4.0   \n",
      "109955                                      NaN   \n",
      "107988                                     -2.0   \n",
      "108303                                      NaN   \n",
      "...                                         ...   \n",
      "86924                                     -36.0   \n",
      "86506                                     -30.0   \n",
      "87818                                     -18.0   \n",
      "87574                                     -14.0   \n",
      "88548                                     -19.0   \n",
      "\n",
      "        residential_percent_change_from_baseline      date2  \n",
      "106281                                       0.0 2020-02-15  \n",
      "107153                                       NaN 2020-02-15  \n",
      "109955                                       NaN 2020-02-15  \n",
      "107988                                       NaN 2020-02-15  \n",
      "108303                                       NaN 2020-02-15  \n",
      "...                                          ...        ...  \n",
      "86924                                        4.0 2021-09-01  \n",
      "86506                                        4.0 2021-09-01  \n",
      "87818                                        3.0 2021-09-01  \n",
      "87574                                        2.0 2021-09-01  \n",
      "88548                                        3.0 2021-09-01  \n",
      "\n",
      "[7187 rows x 16 columns]\n"
     ]
    }
   ],
   "source": [
    "df_province_largest = df_workplace_high.sort_values(by='date2',ascending=True)\n",
    "print(df_province_largest)"
   ]
  },
  {
   "cell_type": "code",
   "execution_count": 23,
   "metadata": {},
   "outputs": [
    {
     "data": {
      "image/png": "[encoded data removed]",
      "text/plain": [
       "<Figure size 432x288 with 1 Axes>"
      ]
     },
     "metadata": {
      "needs_background": "light"
     },
     "output_type": "display_data"
    },
    {
     "data": {
      "image/png": "[encoded data removed]",
      "text/plain": [
       "<Figure size 432x288 with 1 Axes>"
      ]
     },
     "metadata": {
      "needs_background": "light"
     },
     "output_type": "display_data"
    }
   ],
   "source": [
    "# Execute the cell with the following command to visualize the results\n",
    "df_province_largest.plot('date', 'workplaces_percent_change_from_baseline')\n",
    "plt.show()\n",
    "df_province_largest.resample('7D', on='date2').sum()['workplaces_percent_change_from_baseline'].plot()\n",
    "plt.show()"
   ]
  },
  {
   "cell_type": "markdown",
   "metadata": {},
   "source": [
    "#### 7. Compare the results above with the results in the google mobility report pdf of your selected province. Discuss the differences and similarities. Please save the mobility report pdf that you use to compare the results with! An example mobility report pdf can be found [here](https://www.gstatic.com/covid19/mobility/2021-09-01_AW_Mobility_Report_en.pdf)"
   ]
  },
  {
   "cell_type": "code",
   "execution_count": null,
   "metadata": {},
   "outputs": [],
   "source": [
    "# I created a folder: 'PDF', where the compared report is located.\n",
    "# differences I notice are: The data is not comparable, since the pdf only shows the last couple of months."
   ]
  }
 ],
 "metadata": {
  "interpreter": {
   "hash": "df955ce39d0f31d56d4bb2fe0a613e5326ba60723fd33d8303a3aede8f65715c"
  },
  "kernelspec": {
   "display_name": "Python 3",
   "language": "python",
   "name": "python3"
  },
  "language_info": {
   "codemirror_mode": {
    "name": "ipython",
    "version": 3
   },
   "file_extension": ".py",
   "mimetype": "text/x-python",
   "name": "python",
   "nbconvert_exporter": "python",
   "pygments_lexer": "ipython3",
   "version": "3.7.10"
  }
 },
 "nbformat": 4,
 "nbformat_minor": 4
}
