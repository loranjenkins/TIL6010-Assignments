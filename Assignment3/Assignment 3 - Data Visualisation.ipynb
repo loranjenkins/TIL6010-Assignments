{
 "cells": [
  {
   "cell_type": "markdown",
   "metadata": {},
   "source": [
    "# General requirements for the assignment\n",
    "\n",
    "- Make appropriate comments to your code\n",
    "- Use Markdown cells to provide your answers (when applicable)\n",
    "- Add your code when there is the comment \"YOUR CODE HERE\".\n",
    "- Stick to Pep8 standard as much as possible for your coding\n",
    "- Tag the commit as *Final submission of Assignment 3*\n",
    "- Submit through GitHub\n",
    "- Provide your GitHub url to the Ipython notebook as the submisison for Brightspace assignment 3\n",
    "- Post (interesting) errors in the course Github's issue page\n",
    "\n",
    "# Assignment Intro\n",
    "\n",
    "In this assignment, you will be asked to make some visualisations on the dataset that you worked with in the previous assignments.\n",
    "\n",
    "### DEADLINE FOR THIS ASSIGNMENT IS 15 OCTOBER 2021 BEFORE 23:59\n",
    "\n",
    "<hr />"
   ]
  },
  {
   "cell_type": "markdown",
   "metadata": {
    "heading_collapsed": true
   },
   "source": [
    "## Import libraries\n",
    "Update this list as you go along the assigment"
   ]
  },
  {
   "cell_type": "code",
   "execution_count": 1,
   "metadata": {
    "hidden": true,
    "scrolled": true
   },
   "outputs": [],
   "source": [
    "import pandas as pd\n",
    "import matplotlib.pyplot as plt\n",
    "import numpy as np\n",
    "import matplotlib.ticker as mtick\n",
    "import plotly.express as px\n",
    "import pandas as pd\n",
    "import plotly.graph_objects as go\n",
    "import geopandas as gpd\n",
    "import math"
   ]
  },
  {
   "cell_type": "markdown",
   "metadata": {},
   "source": [
    "## Activities changes\n",
    "\n",
    "Use the dataset that you have been working on in the previous assignments. Pick either a city or a province, then recreate the diagram for one of the activities, similar to those that are shown in [Google mobility reports](https://www.gstatic.com/covid19/mobility/2021-09-28_AW_Mobility_Report_en.pdf) or as below.\n",
    "\n",
    "<img src=\"Images/Transit_changes.png\" alt=\"drawing\" width=\"600\"/>"
   ]
  },
  {
   "cell_type": "markdown",
   "metadata": {},
   "source": [
    "### Remarks:\n",
    "- Create readable graphs by providing appropriate ticks, labels, titles, colorbars, legends\n",
    "- [Hint] A possible [function](https://matplotlib.org/stable/api/_as_gen/matplotlib.axes.Axes.fill_between.html#matplotlib.axes.Axes.fill_between) to fill areas between lines\n",
    "- [Optional] If you are ambitous, you can use subplots to also include the left part of the figure, which shows the percentages as below\n",
    " <img src=\"Images/Transit_changes_text.png\" alt=\"drawing\" width=\"200\"/>"
   ]
  },
  {
   "cell_type": "code",
   "execution_count": 67,
   "metadata": {},
   "outputs": [
    {
     "name": "stderr",
     "output_type": "stream",
     "text": [
      "D:\\Anaconda3\\envs\\tf2\\lib\\site-packages\\ipykernel_launcher.py:7: SettingWithCopyWarning: \n",
      "A value is trying to be set on a copy of a slice from a DataFrame.\n",
      "Try using .loc[row_indexer,col_indexer] = value instead\n",
      "\n",
      "See the caveats in the documentation: https://pandas.pydata.org/pandas-docs/stable/user_guide/indexing.html#returning-a-view-versus-a-copy\n",
      "  import sys\n"
     ]
    },
    {
     "data": {
      "image/png": "[encoded data removed]",
      "text/plain": [
       "<Figure size 648x648 with 2 Axes>"
      ]
     },
     "metadata": {
      "needs_background": "light"
     },
     "output_type": "display_data"
    }
   ],
   "source": [
    "df_2020 = pd.read_csv(r'C:\\Users\\loran\\Desktop\\Mechanical engineering - Delft\\Master\\2nd - Q1\\Programming\\Assignments\\2020_NL_Region_Mobility_Report.csv')\n",
    "df_2021 = pd.read_csv(r'C:\\Users\\loran\\Desktop\\Mechanical engineering - Delft\\Master\\2nd - Q1\\Programming\\Assignments\\2021_NL_Region_Mobility_Report.csv')\n",
    "df = pd.concat([df_2020,df_2021])\n",
    "df_province_selected = df.loc[df.sub_region_1.str.contains(\"South Holland\", na=False)]\n",
    "\n",
    "#per 3 weeks\n",
    "df_province_selected['date'] = pd.to_datetime(df_province_selected['date'])\n",
    "df_province_agg = df_province_selected.resample('3W', on='date').mean()\n",
    "df_province_agg.reset_index(inplace=True)\n",
    "\n",
    "average = str(math.floor(df_province_agg['transit_stations_percent_change_from_baseline'].mean()))\n",
    "y = df_province_agg['transit_stations_percent_change_from_baseline']\n",
    "x = df_province_agg['date']\n",
    "\n",
    "#plotting\n",
    "fig, (ax1,ax2) = plt.subplots(1,2,figsize = (9,9))\n",
    "\n",
    "#figure 1\n",
    "#adding text inside the plot\n",
    "ax1.text(.5, .65, 'Transit stations', fontsize = 30, horizontalalignment = 'center')\n",
    "ax1.text(.5, .40, 'compared to baseline', fontsize = 20, horizontalalignment = 'center')\n",
    "ax1.text(.5, .5, average + '%', fontsize = 40, horizontalalignment = 'center')\n",
    "ax1.axis('off')\n",
    "\n",
    "#figure \n",
    "ax2.spines['top'].set_color('none')\n",
    "ax2.spines['right'].set_color('none')\n",
    "ax2.spines['left'].set_color('none')\n",
    "ax2.spines['bottom'].set_color('none')\n",
    "# set the title of the plot\n",
    "# ax.set_title('transit_stations_percent_change_from_baseline')\n",
    "ax2.fill_between(x, y, y2=0,interpolate=False,facecolor='blue', alpha=0.1)\n",
    "plt.plot(x, y,'blue', alpha=1)\n",
    "ax2.yaxis.set_major_formatter(mtick.PercentFormatter())\n",
    "plt.plot(x, np.zeros(len(x)),'blue', alpha=1)\n",
    "\n",
    "degrees = 70\n",
    "plt.xticks(rotation=degrees)\n",
    "\n",
    "lines1 = [20,40,60,80]\n",
    "lines2 = [-20,-40,-60,-80]\n",
    "for i in lines1:\n",
    "    plt.plot(x, np.full((len(x),1), i),'gray', alpha=0.4)\n",
    "for i in lines2:\n",
    "    plt.plot(x, np.full((len(x),1), i),'gray', alpha=0.4)\n",
    "\n",
    "plt.show()\n"
   ]
  },
  {
   "cell_type": "markdown",
   "metadata": {
    "heading_collapsed": true
   },
   "source": [
    "## Multiple lines in the same plot\n",
    "\n",
    "In the previous question, you created a figure for a single city/province. Now, include multiple cities or provinces in a single figure. This time, make the diagram interactive, such as being be to select/deselect particular cities/provinces.\n"
   ]
  },
  {
   "cell_type": "markdown",
   "metadata": {
    "heading_collapsed": true,
    "hidden": true
   },
   "source": [
    "### Remarks\n",
    "\n",
    "- You donot need to fill areas between the lines for the multiple lines plot here\n",
    "- [Hint] If you are to use plotly express, you can use `color` argument in [px.line](https://plotly.com/python-api-reference/generated/plotly.express.line)\n"
   ]
  },
  {
   "cell_type": "code",
   "execution_count": 76,
   "metadata": {
    "hidden": true
   },
   "outputs": [
    {
     "name": "stderr",
     "output_type": "stream",
     "text": [
      "D:\\Anaconda3\\envs\\tf2\\lib\\site-packages\\ipykernel_launcher.py:6: SettingWithCopyWarning:\n",
      "\n",
      "\n",
      "A value is trying to be set on a copy of a slice from a DataFrame.\n",
      "Try using .loc[row_indexer,col_indexer] = value instead\n",
      "\n",
      "See the caveats in the documentation: https://pandas.pydata.org/pandas-docs/stable/user_guide/indexing.html#returning-a-view-versus-a-copy\n",
      "\n",
      "D:\\Anaconda3\\envs\\tf2\\lib\\site-packages\\ipykernel_launcher.py:10: SettingWithCopyWarning:\n",
      "\n",
      "\n",
      "A value is trying to be set on a copy of a slice from a DataFrame.\n",
      "Try using .loc[row_indexer,col_indexer] = value instead\n",
      "\n",
      "See the caveats in the documentation: https://pandas.pydata.org/pandas-docs/stable/user_guide/indexing.html#returning-a-view-versus-a-copy\n",
      "\n",
      "D:\\Anaconda3\\envs\\tf2\\lib\\site-packages\\ipykernel_launcher.py:14: SettingWithCopyWarning:\n",
      "\n",
      "\n",
      "A value is trying to be set on a copy of a slice from a DataFrame.\n",
      "Try using .loc[row_indexer,col_indexer] = value instead\n",
      "\n",
      "See the caveats in the documentation: https://pandas.pydata.org/pandas-docs/stable/user_guide/indexing.html#returning-a-view-versus-a-copy\n",
      "\n",
      "D:\\Anaconda3\\envs\\tf2\\lib\\site-packages\\ipykernel_launcher.py:18: SettingWithCopyWarning:\n",
      "\n",
      "\n",
      "A value is trying to be set on a copy of a slice from a DataFrame.\n",
      "Try using .loc[row_indexer,col_indexer] = value instead\n",
      "\n",
      "See the caveats in the documentation: https://pandas.pydata.org/pandas-docs/stable/user_guide/indexing.html#returning-a-view-versus-a-copy\n",
      "\n"
     ]
    },
    {
     "data": {
      "application/vnd.plotly.v1+json": {
       "config": {
        "plotlyServerURL": "https://plot.ly"
       },
       "data": [
        {
         "line": {
          "shape": "spline"
         },
         "mode": "lines",
         "name": "South Holland",
         "type": "scatter",
         "x": [
          "2020-02-16T00:00:00",
          "2020-03-08T00:00:00",
          "2020-03-29T00:00:00",
          "2020-04-19T00:00:00",
          "2020-05-10T00:00:00",
          "2020-05-31T00:00:00",
          "2020-06-21T00:00:00",
          "2020-07-12T00:00:00",
          "2020-08-02T00:00:00",
          "2020-08-23T00:00:00",
          "2020-09-13T00:00:00",
          "2020-10-04T00:00:00",
          "2020-10-25T00:00:00",
          "2020-11-15T00:00:00",
          "2020-12-06T00:00:00",
          "2020-12-27T00:00:00",
          "2021-01-17T00:00:00",
          "2021-02-07T00:00:00",
          "2021-02-28T00:00:00",
          "2021-03-21T00:00:00",
          "2021-04-11T00:00:00",
          "2021-05-02T00:00:00",
          "2021-05-23T00:00:00",
          "2021-06-13T00:00:00",
          "2021-07-04T00:00:00",
          "2021-07-25T00:00:00",
          "2021-08-15T00:00:00",
          "2021-09-05T00:00:00"
         ],
         "y": [
          -6.290909090909091,
          -5.405835543766578,
          -38.31823745410037,
          -47.496350364963504,
          -42.82173382173382,
          -36.05815423514539,
          -34.987293519695044,
          -31.252551020408163,
          -32.02173913043478,
          -39.059900166389355,
          -33.354581673306775,
          -30.817617866004962,
          -40.78947368421053,
          -40.53285543608124,
          -39.57482185273159,
          -48.658479532163746,
          -53.97569444444444,
          -50.656612529002324,
          -43.188995215311,
          -41.39809296781883,
          -38.97445255474452,
          -33.9063670411985,
          -32.8689138576779,
          -24.282247765006385,
          -24.178571428571427,
          -26.01889168765743,
          -35.76144578313253,
          -30.74757281553398
         ]
        },
        {
         "line": {
          "shape": "spline"
         },
         "mode": "lines",
         "name": "North Holland",
         "type": "scatter",
         "x": [
          "2020-02-16T00:00:00",
          "2020-03-08T00:00:00",
          "2020-03-29T00:00:00",
          "2020-04-19T00:00:00",
          "2020-05-10T00:00:00",
          "2020-05-31T00:00:00",
          "2020-06-21T00:00:00",
          "2020-07-12T00:00:00",
          "2020-08-02T00:00:00",
          "2020-08-23T00:00:00",
          "2020-09-13T00:00:00",
          "2020-10-04T00:00:00",
          "2020-10-25T00:00:00",
          "2020-11-15T00:00:00",
          "2020-12-06T00:00:00",
          "2020-12-27T00:00:00",
          "2021-01-17T00:00:00",
          "2021-02-07T00:00:00",
          "2021-02-28T00:00:00",
          "2021-03-21T00:00:00",
          "2021-04-11T00:00:00",
          "2021-05-02T00:00:00",
          "2021-05-23T00:00:00",
          "2021-06-13T00:00:00",
          "2021-07-04T00:00:00",
          "2021-07-25T00:00:00",
          "2021-08-15T00:00:00",
          "2021-09-05T00:00:00"
         ],
         "y": [
          -10.39622641509434,
          -4.757341576506955,
          -44.074561403508774,
          -57.84256559766764,
          -52.17205882352941,
          -44.805022156573116,
          -37.863703703703706,
          -33.359165424739196,
          -31.522658610271904,
          -33.997920997921,
          -33.80717488789238,
          -30.112259970457902,
          -40.997093023255815,
          -43.575714285714284,
          -43.363247863247864,
          -52.251063829787235,
          -55.63202247191011,
          -54.69491525423729,
          -46.430835734870314,
          -44.35035460992908,
          -41.94412607449857,
          -35.78299120234604,
          -33.86588921282799,
          -27.440119760479043,
          -27.04888888888889,
          -28.97032640949555,
          -31.511312217194572,
          -23.76923076923077
         ]
        },
        {
         "line": {
          "shape": "spline"
         },
         "mode": "lines",
         "name": "Brabant",
         "type": "scatter",
         "x": [
          "2020-02-16T00:00:00",
          "2020-03-08T00:00:00",
          "2020-03-29T00:00:00",
          "2020-04-19T00:00:00",
          "2020-05-10T00:00:00",
          "2020-05-31T00:00:00",
          "2020-06-21T00:00:00",
          "2020-07-12T00:00:00",
          "2020-08-02T00:00:00",
          "2020-08-23T00:00:00",
          "2020-09-13T00:00:00",
          "2020-10-04T00:00:00",
          "2020-10-25T00:00:00",
          "2020-11-15T00:00:00",
          "2020-12-06T00:00:00",
          "2020-12-27T00:00:00",
          "2021-01-17T00:00:00",
          "2021-02-07T00:00:00",
          "2021-02-28T00:00:00",
          "2021-03-21T00:00:00",
          "2021-04-11T00:00:00",
          "2021-05-02T00:00:00",
          "2021-05-23T00:00:00",
          "2021-06-13T00:00:00",
          "2021-07-04T00:00:00",
          "2021-07-25T00:00:00",
          "2021-08-15T00:00:00",
          "2021-09-05T00:00:00"
         ],
         "y": [
          -0.2413793103448276,
          -4.164300202839756,
          -45.47433628318584,
          -54.37544483985765,
          -49.39279279279279,
          -44.14337568058076,
          -39.8786231884058,
          -35.89748201438849,
          -39.568627450980394,
          -45.82211538461539,
          -33.13245033112583,
          -30.222826086956523,
          -41.51379310344828,
          -41.90769230769231,
          -43.47899159663866,
          -53.13117546848382,
          -58.20069808027923,
          -55.67125645438898,
          -51.20665499124343,
          -44.88527397260274,
          -39.802083333333336,
          -35.57960644007156,
          -35.28291814946619,
          -27.18233082706767,
          -25.785185185185185,
          -26.739622641509435,
          -36.611510791366904,
          -33.670081967213115
         ]
        },
        {
         "line": {
          "shape": "spline"
         },
         "mode": "lines",
         "name": "Utrecht",
         "type": "scatter",
         "x": [
          "2020-02-16T00:00:00",
          "2020-03-08T00:00:00",
          "2020-03-29T00:00:00",
          "2020-04-19T00:00:00",
          "2020-05-10T00:00:00",
          "2020-05-31T00:00:00",
          "2020-06-21T00:00:00",
          "2020-07-12T00:00:00",
          "2020-08-02T00:00:00",
          "2020-08-23T00:00:00",
          "2020-09-13T00:00:00",
          "2020-10-04T00:00:00",
          "2020-10-25T00:00:00",
          "2020-11-15T00:00:00",
          "2020-12-06T00:00:00",
          "2020-12-27T00:00:00",
          "2021-01-17T00:00:00",
          "2021-02-07T00:00:00",
          "2021-02-28T00:00:00",
          "2021-03-21T00:00:00",
          "2021-04-11T00:00:00",
          "2021-05-02T00:00:00",
          "2021-05-23T00:00:00",
          "2021-06-13T00:00:00",
          "2021-07-04T00:00:00",
          "2021-07-25T00:00:00",
          "2021-08-15T00:00:00",
          "2021-09-05T00:00:00"
         ],
         "y": [
          1.9230769230769231,
          -5.456973293768546,
          -42.75555555555555,
          -54.24653739612188,
          -49.080229226361034,
          -43.226628895184135,
          -41.258426966292134,
          -36.18926553672316,
          -38.025862068965516,
          -44.54406130268199,
          -34.177083333333336,
          -34.02285714285714,
          -42.967123287671235,
          -45.168508287292816,
          -45.15151515151515,
          -53.734042553191486,
          -56.981283422459896,
          -54.6745406824147,
          -47.88918918918919,
          -45.1266846361186,
          -44.1927374301676,
          -39.916666666666664,
          -38.628242074927954,
          -32.40988372093023,
          -32.351585014409224,
          -32.95614035087719,
          -40.402234636871505,
          -34.22112211221122
         ]
        }
       ],
       "layout": {
        "template": {
         "data": {
          "bar": [
           {
            "error_x": {
             "color": "#2a3f5f"
            },
            "error_y": {
             "color": "#2a3f5f"
            },
            "marker": {
             "line": {
              "color": "#E5ECF6",
              "width": 0.5
             },
             "pattern": {
              "fillmode": "overlay",
              "size": 10,
              "solidity": 0.2
             }
            },
            "type": "bar"
           }
          ],
          "barpolar": [
           {
            "marker": {
             "line": {
              "color": "#E5ECF6",
              "width": 0.5
             },
             "pattern": {
              "fillmode": "overlay",
              "size": 10,
              "solidity": 0.2
             }
            },
            "type": "barpolar"
           }
          ],
          "carpet": [
           {
            "aaxis": {
             "endlinecolor": "#2a3f5f",
             "gridcolor": "white",
             "linecolor": "white",
             "minorgridcolor": "white",
             "startlinecolor": "#2a3f5f"
            },
            "baxis": {
             "endlinecolor": "#2a3f5f",
             "gridcolor": "white",
             "linecolor": "white",
             "minorgridcolor": "white",
             "startlinecolor": "#2a3f5f"
            },
            "type": "carpet"
           }
          ],
          "choropleth": [
           {
            "colorbar": {
             "outlinewidth": 0,
             "ticks": ""
            },
            "type": "choropleth"
           }
          ],
          "contour": [
           {
            "colorbar": {
             "outlinewidth": 0,
             "ticks": ""
            },
            "colorscale": [
             [
              0,
              "#0d0887"
             ],
             [
              0.1111111111111111,
              "#46039f"
             ],
             [
              0.2222222222222222,
              "#7201a8"
             ],
             [
              0.3333333333333333,
              "#9c179e"
             ],
             [
              0.4444444444444444,
              "#bd3786"
             ],
             [
              0.5555555555555556,
              "#d8576b"
             ],
             [
              0.6666666666666666,
              "#ed7953"
             ],
             [
              0.7777777777777778,
              "#fb9f3a"
             ],
             [
              0.8888888888888888,
              "#fdca26"
             ],
             [
              1,
              "#f0f921"
             ]
            ],
            "type": "contour"
           }
          ],
          "contourcarpet": [
           {
            "colorbar": {
             "outlinewidth": 0,
             "ticks": ""
            },
            "type": "contourcarpet"
           }
          ],
          "heatmap": [
           {
            "colorbar": {
             "outlinewidth": 0,
             "ticks": ""
            },
            "colorscale": [
             [
              0,
              "#0d0887"
             ],
             [
              0.1111111111111111,
              "#46039f"
             ],
             [
              0.2222222222222222,
              "#7201a8"
             ],
             [
              0.3333333333333333,
              "#9c179e"
             ],
             [
              0.4444444444444444,
              "#bd3786"
             ],
             [
              0.5555555555555556,
              "#d8576b"
             ],
             [
              0.6666666666666666,
              "#ed7953"
             ],
             [
              0.7777777777777778,
              "#fb9f3a"
             ],
             [
              0.8888888888888888,
              "#fdca26"
             ],
             [
              1,
              "#f0f921"
             ]
            ],
            "type": "heatmap"
           }
          ],
          "heatmapgl": [
           {
            "colorbar": {
             "outlinewidth": 0,
             "ticks": ""
            },
            "colorscale": [
             [
              0,
              "#0d0887"
             ],
             [
              0.1111111111111111,
              "#46039f"
             ],
             [
              0.2222222222222222,
              "#7201a8"
             ],
             [
              0.3333333333333333,
              "#9c179e"
             ],
             [
              0.4444444444444444,
              "#bd3786"
             ],
             [
              0.5555555555555556,
              "#d8576b"
             ],
             [
              0.6666666666666666,
              "#ed7953"
             ],
             [
              0.7777777777777778,
              "#fb9f3a"
             ],
             [
              0.8888888888888888,
              "#fdca26"
             ],
             [
              1,
              "#f0f921"
             ]
            ],
            "type": "heatmapgl"
           }
          ],
          "histogram": [
           {
            "marker": {
             "pattern": {
              "fillmode": "overlay",
              "size": 10,
              "solidity": 0.2
             }
            },
            "type": "histogram"
           }
          ],
          "histogram2d": [
           {
            "colorbar": {
             "outlinewidth": 0,
             "ticks": ""
            },
            "colorscale": [
             [
              0,
              "#0d0887"
             ],
             [
              0.1111111111111111,
              "#46039f"
             ],
             [
              0.2222222222222222,
              "#7201a8"
             ],
             [
              0.3333333333333333,
              "#9c179e"
             ],
             [
              0.4444444444444444,
              "#bd3786"
             ],
             [
              0.5555555555555556,
              "#d8576b"
             ],
             [
              0.6666666666666666,
              "#ed7953"
             ],
             [
              0.7777777777777778,
              "#fb9f3a"
             ],
             [
              0.8888888888888888,
              "#fdca26"
             ],
             [
              1,
              "#f0f921"
             ]
            ],
            "type": "histogram2d"
           }
          ],
          "histogram2dcontour": [
           {
            "colorbar": {
             "outlinewidth": 0,
             "ticks": ""
            },
            "colorscale": [
             [
              0,
              "#0d0887"
             ],
             [
              0.1111111111111111,
              "#46039f"
             ],
             [
              0.2222222222222222,
              "#7201a8"
             ],
             [
              0.3333333333333333,
              "#9c179e"
             ],
             [
              0.4444444444444444,
              "#bd3786"
             ],
             [
              0.5555555555555556,
              "#d8576b"
             ],
             [
              0.6666666666666666,
              "#ed7953"
             ],
             [
              0.7777777777777778,
              "#fb9f3a"
             ],
             [
              0.8888888888888888,
              "#fdca26"
             ],
             [
              1,
              "#f0f921"
             ]
            ],
            "type": "histogram2dcontour"
           }
          ],
          "mesh3d": [
           {
            "colorbar": {
             "outlinewidth": 0,
             "ticks": ""
            },
            "type": "mesh3d"
           }
          ],
          "parcoords": [
           {
            "line": {
             "colorbar": {
              "outlinewidth": 0,
              "ticks": ""
             }
            },
            "type": "parcoords"
           }
          ],
          "pie": [
           {
            "automargin": true,
            "type": "pie"
           }
          ],
          "scatter": [
           {
            "marker": {
             "colorbar": {
              "outlinewidth": 0,
              "ticks": ""
             }
            },
            "type": "scatter"
           }
          ],
          "scatter3d": [
           {
            "line": {
             "colorbar": {
              "outlinewidth": 0,
              "ticks": ""
             }
            },
            "marker": {
             "colorbar": {
              "outlinewidth": 0,
              "ticks": ""
             }
            },
            "type": "scatter3d"
           }
          ],
          "scattercarpet": [
           {
            "marker": {
             "colorbar": {
              "outlinewidth": 0,
              "ticks": ""
             }
            },
            "type": "scattercarpet"
           }
          ],
          "scattergeo": [
           {
            "marker": {
             "colorbar": {
              "outlinewidth": 0,
              "ticks": ""
             }
            },
            "type": "scattergeo"
           }
          ],
          "scattergl": [
           {
            "marker": {
             "colorbar": {
              "outlinewidth": 0,
              "ticks": ""
             }
            },
            "type": "scattergl"
           }
          ],
          "scattermapbox": [
           {
            "marker": {
             "colorbar": {
              "outlinewidth": 0,
              "ticks": ""
             }
            },
            "type": "scattermapbox"
           }
          ],
          "scatterpolar": [
           {
            "marker": {
             "colorbar": {
              "outlinewidth": 0,
              "ticks": ""
             }
            },
            "type": "scatterpolar"
           }
          ],
          "scatterpolargl": [
           {
            "marker": {
             "colorbar": {
              "outlinewidth": 0,
              "ticks": ""
             }
            },
            "type": "scatterpolargl"
           }
          ],
          "scatterternary": [
           {
            "marker": {
             "colorbar": {
              "outlinewidth": 0,
              "ticks": ""
             }
            },
            "type": "scatterternary"
           }
          ],
          "surface": [
           {
            "colorbar": {
             "outlinewidth": 0,
             "ticks": ""
            },
            "colorscale": [
             [
              0,
              "#0d0887"
             ],
             [
              0.1111111111111111,
              "#46039f"
             ],
             [
              0.2222222222222222,
              "#7201a8"
             ],
             [
              0.3333333333333333,
              "#9c179e"
             ],
             [
              0.4444444444444444,
              "#bd3786"
             ],
             [
              0.5555555555555556,
              "#d8576b"
             ],
             [
              0.6666666666666666,
              "#ed7953"
             ],
             [
              0.7777777777777778,
              "#fb9f3a"
             ],
             [
              0.8888888888888888,
              "#fdca26"
             ],
             [
              1,
              "#f0f921"
             ]
            ],
            "type": "surface"
           }
          ],
          "table": [
           {
            "cells": {
             "fill": {
              "color": "#EBF0F8"
             },
             "line": {
              "color": "white"
             }
            },
            "header": {
             "fill": {
              "color": "#C8D4E3"
             },
             "line": {
              "color": "white"
             }
            },
            "type": "table"
           }
          ]
         },
         "layout": {
          "annotationdefaults": {
           "arrowcolor": "#2a3f5f",
           "arrowhead": 0,
           "arrowwidth": 1
          },
          "autotypenumbers": "strict",
          "coloraxis": {
           "colorbar": {
            "outlinewidth": 0,
            "ticks": ""
           }
          },
          "colorscale": {
           "diverging": [
            [
             0,
             "#8e0152"
            ],
            [
             0.1,
             "#c51b7d"
            ],
            [
             0.2,
             "#de77ae"
            ],
            [
             0.3,
             "#f1b6da"
            ],
            [
             0.4,
             "#fde0ef"
            ],
            [
             0.5,
             "#f7f7f7"
            ],
            [
             0.6,
             "#e6f5d0"
            ],
            [
             0.7,
             "#b8e186"
            ],
            [
             0.8,
             "#7fbc41"
            ],
            [
             0.9,
             "#4d9221"
            ],
            [
             1,
             "#276419"
            ]
           ],
           "sequential": [
            [
             0,
             "#0d0887"
            ],
            [
             0.1111111111111111,
             "#46039f"
            ],
            [
             0.2222222222222222,
             "#7201a8"
            ],
            [
             0.3333333333333333,
             "#9c179e"
            ],
            [
             0.4444444444444444,
             "#bd3786"
            ],
            [
             0.5555555555555556,
             "#d8576b"
            ],
            [
             0.6666666666666666,
             "#ed7953"
            ],
            [
             0.7777777777777778,
             "#fb9f3a"
            ],
            [
             0.8888888888888888,
             "#fdca26"
            ],
            [
             1,
             "#f0f921"
            ]
           ],
           "sequentialminus": [
            [
             0,
             "#0d0887"
            ],
            [
             0.1111111111111111,
             "#46039f"
            ],
            [
             0.2222222222222222,
             "#7201a8"
            ],
            [
             0.3333333333333333,
             "#9c179e"
            ],
            [
             0.4444444444444444,
             "#bd3786"
            ],
            [
             0.5555555555555556,
             "#d8576b"
            ],
            [
             0.6666666666666666,
             "#ed7953"
            ],
            [
             0.7777777777777778,
             "#fb9f3a"
            ],
            [
             0.8888888888888888,
             "#fdca26"
            ],
            [
             1,
             "#f0f921"
            ]
           ]
          },
          "colorway": [
           "#636efa",
           "#EF553B",
           "#00cc96",
           "#ab63fa",
           "#FFA15A",
           "#19d3f3",
           "#FF6692",
           "#B6E880",
           "#FF97FF",
           "#FECB52"
          ],
          "font": {
           "color": "#2a3f5f"
          },
          "geo": {
           "bgcolor": "white",
           "lakecolor": "white",
           "landcolor": "#E5ECF6",
           "showlakes": true,
           "showland": true,
           "subunitcolor": "white"
          },
          "hoverlabel": {
           "align": "left"
          },
          "hovermode": "closest",
          "mapbox": {
           "style": "light"
          },
          "paper_bgcolor": "white",
          "plot_bgcolor": "#E5ECF6",
          "polar": {
           "angularaxis": {
            "gridcolor": "white",
            "linecolor": "white",
            "ticks": ""
           },
           "bgcolor": "#E5ECF6",
           "radialaxis": {
            "gridcolor": "white",
            "linecolor": "white",
            "ticks": ""
           }
          },
          "scene": {
           "xaxis": {
            "backgroundcolor": "#E5ECF6",
            "gridcolor": "white",
            "gridwidth": 2,
            "linecolor": "white",
            "showbackground": true,
            "ticks": "",
            "zerolinecolor": "white"
           },
           "yaxis": {
            "backgroundcolor": "#E5ECF6",
            "gridcolor": "white",
            "gridwidth": 2,
            "linecolor": "white",
            "showbackground": true,
            "ticks": "",
            "zerolinecolor": "white"
           },
           "zaxis": {
            "backgroundcolor": "#E5ECF6",
            "gridcolor": "white",
            "gridwidth": 2,
            "linecolor": "white",
            "showbackground": true,
            "ticks": "",
            "zerolinecolor": "white"
           }
          },
          "shapedefaults": {
           "line": {
            "color": "#2a3f5f"
           }
          },
          "ternary": {
           "aaxis": {
            "gridcolor": "white",
            "linecolor": "white",
            "ticks": ""
           },
           "baxis": {
            "gridcolor": "white",
            "linecolor": "white",
            "ticks": ""
           },
           "bgcolor": "#E5ECF6",
           "caxis": {
            "gridcolor": "white",
            "linecolor": "white",
            "ticks": ""
           }
          },
          "title": {
           "x": 0.05
          },
          "xaxis": {
           "automargin": true,
           "gridcolor": "white",
           "linecolor": "white",
           "ticks": "",
           "title": {
            "standoff": 15
           },
           "zerolinecolor": "white",
           "zerolinewidth": 2
          },
          "yaxis": {
           "automargin": true,
           "gridcolor": "white",
           "linecolor": "white",
           "ticks": "",
           "title": {
            "standoff": 15
           },
           "zerolinecolor": "white",
           "zerolinewidth": 2
          }
         }
        },
        "yaxis": {
         "title": {
          "text": "Transit stations percent change from baseline"
         }
        }
       }
      },
      "text/html": [
       "<div>                            <div id=\"ca1192ed-7d01-4ac1-bc40-421ee2ee67d8\" class=\"plotly-graph-div\" style=\"height:525px; width:100%;\"></div>            <script type=\"text/javascript\">                require([\"plotly\"], function(Plotly) {                    window.PLOTLYENV=window.PLOTLYENV || {};                                    if (document.getElementById(\"ca1192ed-7d01-4ac1-bc40-421ee2ee67d8\")) {                    Plotly.newPlot(                        \"ca1192ed-7d01-4ac1-bc40-421ee2ee67d8\",                        [{\"line\":{\"shape\":\"spline\"},\"mode\":\"lines\",\"name\":\"South Holland\",\"type\":\"scatter\",\"x\":[\"2020-02-16T00:00:00\",\"2020-03-08T00:00:00\",\"2020-03-29T00:00:00\",\"2020-04-19T00:00:00\",\"2020-05-10T00:00:00\",\"2020-05-31T00:00:00\",\"2020-06-21T00:00:00\",\"2020-07-12T00:00:00\",\"2020-08-02T00:00:00\",\"2020-08-23T00:00:00\",\"2020-09-13T00:00:00\",\"2020-10-04T00:00:00\",\"2020-10-25T00:00:00\",\"2020-11-15T00:00:00\",\"2020-12-06T00:00:00\",\"2020-12-27T00:00:00\",\"2021-01-17T00:00:00\",\"2021-02-07T00:00:00\",\"2021-02-28T00:00:00\",\"2021-03-21T00:00:00\",\"2021-04-11T00:00:00\",\"2021-05-02T00:00:00\",\"2021-05-23T00:00:00\",\"2021-06-13T00:00:00\",\"2021-07-04T00:00:00\",\"2021-07-25T00:00:00\",\"2021-08-15T00:00:00\",\"2021-09-05T00:00:00\"],\"y\":[-6.290909090909091,-5.405835543766578,-38.31823745410037,-47.496350364963504,-42.82173382173382,-36.05815423514539,-34.987293519695044,-31.252551020408163,-32.02173913043478,-39.059900166389355,-33.354581673306775,-30.817617866004962,-40.78947368421053,-40.53285543608124,-39.57482185273159,-48.658479532163746,-53.97569444444444,-50.656612529002324,-43.188995215311,-41.39809296781883,-38.97445255474452,-33.9063670411985,-32.8689138576779,-24.282247765006385,-24.178571428571427,-26.01889168765743,-35.76144578313253,-30.74757281553398]},{\"line\":{\"shape\":\"spline\"},\"mode\":\"lines\",\"name\":\"North Holland\",\"type\":\"scatter\",\"x\":[\"2020-02-16T00:00:00\",\"2020-03-08T00:00:00\",\"2020-03-29T00:00:00\",\"2020-04-19T00:00:00\",\"2020-05-10T00:00:00\",\"2020-05-31T00:00:00\",\"2020-06-21T00:00:00\",\"2020-07-12T00:00:00\",\"2020-08-02T00:00:00\",\"2020-08-23T00:00:00\",\"2020-09-13T00:00:00\",\"2020-10-04T00:00:00\",\"2020-10-25T00:00:00\",\"2020-11-15T00:00:00\",\"2020-12-06T00:00:00\",\"2020-12-27T00:00:00\",\"2021-01-17T00:00:00\",\"2021-02-07T00:00:00\",\"2021-02-28T00:00:00\",\"2021-03-21T00:00:00\",\"2021-04-11T00:00:00\",\"2021-05-02T00:00:00\",\"2021-05-23T00:00:00\",\"2021-06-13T00:00:00\",\"2021-07-04T00:00:00\",\"2021-07-25T00:00:00\",\"2021-08-15T00:00:00\",\"2021-09-05T00:00:00\"],\"y\":[-10.39622641509434,-4.757341576506955,-44.074561403508774,-57.84256559766764,-52.17205882352941,-44.805022156573116,-37.863703703703706,-33.359165424739196,-31.522658610271904,-33.997920997921,-33.80717488789238,-30.112259970457902,-40.997093023255815,-43.575714285714284,-43.363247863247864,-52.251063829787235,-55.63202247191011,-54.69491525423729,-46.430835734870314,-44.35035460992908,-41.94412607449857,-35.78299120234604,-33.86588921282799,-27.440119760479043,-27.04888888888889,-28.97032640949555,-31.511312217194572,-23.76923076923077]},{\"line\":{\"shape\":\"spline\"},\"mode\":\"lines\",\"name\":\"Brabant\",\"type\":\"scatter\",\"x\":[\"2020-02-16T00:00:00\",\"2020-03-08T00:00:00\",\"2020-03-29T00:00:00\",\"2020-04-19T00:00:00\",\"2020-05-10T00:00:00\",\"2020-05-31T00:00:00\",\"2020-06-21T00:00:00\",\"2020-07-12T00:00:00\",\"2020-08-02T00:00:00\",\"2020-08-23T00:00:00\",\"2020-09-13T00:00:00\",\"2020-10-04T00:00:00\",\"2020-10-25T00:00:00\",\"2020-11-15T00:00:00\",\"2020-12-06T00:00:00\",\"2020-12-27T00:00:00\",\"2021-01-17T00:00:00\",\"2021-02-07T00:00:00\",\"2021-02-28T00:00:00\",\"2021-03-21T00:00:00\",\"2021-04-11T00:00:00\",\"2021-05-02T00:00:00\",\"2021-05-23T00:00:00\",\"2021-06-13T00:00:00\",\"2021-07-04T00:00:00\",\"2021-07-25T00:00:00\",\"2021-08-15T00:00:00\",\"2021-09-05T00:00:00\"],\"y\":[-0.2413793103448276,-4.164300202839756,-45.47433628318584,-54.37544483985765,-49.39279279279279,-44.14337568058076,-39.8786231884058,-35.89748201438849,-39.568627450980394,-45.82211538461539,-33.13245033112583,-30.222826086956523,-41.51379310344828,-41.90769230769231,-43.47899159663866,-53.13117546848382,-58.20069808027923,-55.67125645438898,-51.20665499124343,-44.88527397260274,-39.802083333333336,-35.57960644007156,-35.28291814946619,-27.18233082706767,-25.785185185185185,-26.739622641509435,-36.611510791366904,-33.670081967213115]},{\"line\":{\"shape\":\"spline\"},\"mode\":\"lines\",\"name\":\"Utrecht\",\"type\":\"scatter\",\"x\":[\"2020-02-16T00:00:00\",\"2020-03-08T00:00:00\",\"2020-03-29T00:00:00\",\"2020-04-19T00:00:00\",\"2020-05-10T00:00:00\",\"2020-05-31T00:00:00\",\"2020-06-21T00:00:00\",\"2020-07-12T00:00:00\",\"2020-08-02T00:00:00\",\"2020-08-23T00:00:00\",\"2020-09-13T00:00:00\",\"2020-10-04T00:00:00\",\"2020-10-25T00:00:00\",\"2020-11-15T00:00:00\",\"2020-12-06T00:00:00\",\"2020-12-27T00:00:00\",\"2021-01-17T00:00:00\",\"2021-02-07T00:00:00\",\"2021-02-28T00:00:00\",\"2021-03-21T00:00:00\",\"2021-04-11T00:00:00\",\"2021-05-02T00:00:00\",\"2021-05-23T00:00:00\",\"2021-06-13T00:00:00\",\"2021-07-04T00:00:00\",\"2021-07-25T00:00:00\",\"2021-08-15T00:00:00\",\"2021-09-05T00:00:00\"],\"y\":[1.9230769230769231,-5.456973293768546,-42.75555555555555,-54.24653739612188,-49.080229226361034,-43.226628895184135,-41.258426966292134,-36.18926553672316,-38.025862068965516,-44.54406130268199,-34.177083333333336,-34.02285714285714,-42.967123287671235,-45.168508287292816,-45.15151515151515,-53.734042553191486,-56.981283422459896,-54.6745406824147,-47.88918918918919,-45.1266846361186,-44.1927374301676,-39.916666666666664,-38.628242074927954,-32.40988372093023,-32.351585014409224,-32.95614035087719,-40.402234636871505,-34.22112211221122]}],                        {\"template\":{\"data\":{\"bar\":[{\"error_x\":{\"color\":\"#2a3f5f\"},\"error_y\":{\"color\":\"#2a3f5f\"},\"marker\":{\"line\":{\"color\":\"#E5ECF6\",\"width\":0.5},\"pattern\":{\"fillmode\":\"overlay\",\"size\":10,\"solidity\":0.2}},\"type\":\"bar\"}],\"barpolar\":[{\"marker\":{\"line\":{\"color\":\"#E5ECF6\",\"width\":0.5},\"pattern\":{\"fillmode\":\"overlay\",\"size\":10,\"solidity\":0.2}},\"type\":\"barpolar\"}],\"carpet\":[{\"aaxis\":{\"endlinecolor\":\"#2a3f5f\",\"gridcolor\":\"white\",\"linecolor\":\"white\",\"minorgridcolor\":\"white\",\"startlinecolor\":\"#2a3f5f\"},\"baxis\":{\"endlinecolor\":\"#2a3f5f\",\"gridcolor\":\"white\",\"linecolor\":\"white\",\"minorgridcolor\":\"white\",\"startlinecolor\":\"#2a3f5f\"},\"type\":\"carpet\"}],\"choropleth\":[{\"colorbar\":{\"outlinewidth\":0,\"ticks\":\"\"},\"type\":\"choropleth\"}],\"contour\":[{\"colorbar\":{\"outlinewidth\":0,\"ticks\":\"\"},\"colorscale\":[[0.0,\"#0d0887\"],[0.1111111111111111,\"#46039f\"],[0.2222222222222222,\"#7201a8\"],[0.3333333333333333,\"#9c179e\"],[0.4444444444444444,\"#bd3786\"],[0.5555555555555556,\"#d8576b\"],[0.6666666666666666,\"#ed7953\"],[0.7777777777777778,\"#fb9f3a\"],[0.8888888888888888,\"#fdca26\"],[1.0,\"#f0f921\"]],\"type\":\"contour\"}],\"contourcarpet\":[{\"colorbar\":{\"outlinewidth\":0,\"ticks\":\"\"},\"type\":\"contourcarpet\"}],\"heatmap\":[{\"colorbar\":{\"outlinewidth\":0,\"ticks\":\"\"},\"colorscale\":[[0.0,\"#0d0887\"],[0.1111111111111111,\"#46039f\"],[0.2222222222222222,\"#7201a8\"],[0.3333333333333333,\"#9c179e\"],[0.4444444444444444,\"#bd3786\"],[0.5555555555555556,\"#d8576b\"],[0.6666666666666666,\"#ed7953\"],[0.7777777777777778,\"#fb9f3a\"],[0.8888888888888888,\"#fdca26\"],[1.0,\"#f0f921\"]],\"type\":\"heatmap\"}],\"heatmapgl\":[{\"colorbar\":{\"outlinewidth\":0,\"ticks\":\"\"},\"colorscale\":[[0.0,\"#0d0887\"],[0.1111111111111111,\"#46039f\"],[0.2222222222222222,\"#7201a8\"],[0.3333333333333333,\"#9c179e\"],[0.4444444444444444,\"#bd3786\"],[0.5555555555555556,\"#d8576b\"],[0.6666666666666666,\"#ed7953\"],[0.7777777777777778,\"#fb9f3a\"],[0.8888888888888888,\"#fdca26\"],[1.0,\"#f0f921\"]],\"type\":\"heatmapgl\"}],\"histogram\":[{\"marker\":{\"pattern\":{\"fillmode\":\"overlay\",\"size\":10,\"solidity\":0.2}},\"type\":\"histogram\"}],\"histogram2d\":[{\"colorbar\":{\"outlinewidth\":0,\"ticks\":\"\"},\"colorscale\":[[0.0,\"#0d0887\"],[0.1111111111111111,\"#46039f\"],[0.2222222222222222,\"#7201a8\"],[0.3333333333333333,\"#9c179e\"],[0.4444444444444444,\"#bd3786\"],[0.5555555555555556,\"#d8576b\"],[0.6666666666666666,\"#ed7953\"],[0.7777777777777778,\"#fb9f3a\"],[0.8888888888888888,\"#fdca26\"],[1.0,\"#f0f921\"]],\"type\":\"histogram2d\"}],\"histogram2dcontour\":[{\"colorbar\":{\"outlinewidth\":0,\"ticks\":\"\"},\"colorscale\":[[0.0,\"#0d0887\"],[0.1111111111111111,\"#46039f\"],[0.2222222222222222,\"#7201a8\"],[0.3333333333333333,\"#9c179e\"],[0.4444444444444444,\"#bd3786\"],[0.5555555555555556,\"#d8576b\"],[0.6666666666666666,\"#ed7953\"],[0.7777777777777778,\"#fb9f3a\"],[0.8888888888888888,\"#fdca26\"],[1.0,\"#f0f921\"]],\"type\":\"histogram2dcontour\"}],\"mesh3d\":[{\"colorbar\":{\"outlinewidth\":0,\"ticks\":\"\"},\"type\":\"mesh3d\"}],\"parcoords\":[{\"line\":{\"colorbar\":{\"outlinewidth\":0,\"ticks\":\"\"}},\"type\":\"parcoords\"}],\"pie\":[{\"automargin\":true,\"type\":\"pie\"}],\"scatter\":[{\"marker\":{\"colorbar\":{\"outlinewidth\":0,\"ticks\":\"\"}},\"type\":\"scatter\"}],\"scatter3d\":[{\"line\":{\"colorbar\":{\"outlinewidth\":0,\"ticks\":\"\"}},\"marker\":{\"colorbar\":{\"outlinewidth\":0,\"ticks\":\"\"}},\"type\":\"scatter3d\"}],\"scattercarpet\":[{\"marker\":{\"colorbar\":{\"outlinewidth\":0,\"ticks\":\"\"}},\"type\":\"scattercarpet\"}],\"scattergeo\":[{\"marker\":{\"colorbar\":{\"outlinewidth\":0,\"ticks\":\"\"}},\"type\":\"scattergeo\"}],\"scattergl\":[{\"marker\":{\"colorbar\":{\"outlinewidth\":0,\"ticks\":\"\"}},\"type\":\"scattergl\"}],\"scattermapbox\":[{\"marker\":{\"colorbar\":{\"outlinewidth\":0,\"ticks\":\"\"}},\"type\":\"scattermapbox\"}],\"scatterpolar\":[{\"marker\":{\"colorbar\":{\"outlinewidth\":0,\"ticks\":\"\"}},\"type\":\"scatterpolar\"}],\"scatterpolargl\":[{\"marker\":{\"colorbar\":{\"outlinewidth\":0,\"ticks\":\"\"}},\"type\":\"scatterpolargl\"}],\"scatterternary\":[{\"marker\":{\"colorbar\":{\"outlinewidth\":0,\"ticks\":\"\"}},\"type\":\"scatterternary\"}],\"surface\":[{\"colorbar\":{\"outlinewidth\":0,\"ticks\":\"\"},\"colorscale\":[[0.0,\"#0d0887\"],[0.1111111111111111,\"#46039f\"],[0.2222222222222222,\"#7201a8\"],[0.3333333333333333,\"#9c179e\"],[0.4444444444444444,\"#bd3786\"],[0.5555555555555556,\"#d8576b\"],[0.6666666666666666,\"#ed7953\"],[0.7777777777777778,\"#fb9f3a\"],[0.8888888888888888,\"#fdca26\"],[1.0,\"#f0f921\"]],\"type\":\"surface\"}],\"table\":[{\"cells\":{\"fill\":{\"color\":\"#EBF0F8\"},\"line\":{\"color\":\"white\"}},\"header\":{\"fill\":{\"color\":\"#C8D4E3\"},\"line\":{\"color\":\"white\"}},\"type\":\"table\"}]},\"layout\":{\"annotationdefaults\":{\"arrowcolor\":\"#2a3f5f\",\"arrowhead\":0,\"arrowwidth\":1},\"autotypenumbers\":\"strict\",\"coloraxis\":{\"colorbar\":{\"outlinewidth\":0,\"ticks\":\"\"}},\"colorscale\":{\"diverging\":[[0,\"#8e0152\"],[0.1,\"#c51b7d\"],[0.2,\"#de77ae\"],[0.3,\"#f1b6da\"],[0.4,\"#fde0ef\"],[0.5,\"#f7f7f7\"],[0.6,\"#e6f5d0\"],[0.7,\"#b8e186\"],[0.8,\"#7fbc41\"],[0.9,\"#4d9221\"],[1,\"#276419\"]],\"sequential\":[[0.0,\"#0d0887\"],[0.1111111111111111,\"#46039f\"],[0.2222222222222222,\"#7201a8\"],[0.3333333333333333,\"#9c179e\"],[0.4444444444444444,\"#bd3786\"],[0.5555555555555556,\"#d8576b\"],[0.6666666666666666,\"#ed7953\"],[0.7777777777777778,\"#fb9f3a\"],[0.8888888888888888,\"#fdca26\"],[1.0,\"#f0f921\"]],\"sequentialminus\":[[0.0,\"#0d0887\"],[0.1111111111111111,\"#46039f\"],[0.2222222222222222,\"#7201a8\"],[0.3333333333333333,\"#9c179e\"],[0.4444444444444444,\"#bd3786\"],[0.5555555555555556,\"#d8576b\"],[0.6666666666666666,\"#ed7953\"],[0.7777777777777778,\"#fb9f3a\"],[0.8888888888888888,\"#fdca26\"],[1.0,\"#f0f921\"]]},\"colorway\":[\"#636efa\",\"#EF553B\",\"#00cc96\",\"#ab63fa\",\"#FFA15A\",\"#19d3f3\",\"#FF6692\",\"#B6E880\",\"#FF97FF\",\"#FECB52\"],\"font\":{\"color\":\"#2a3f5f\"},\"geo\":{\"bgcolor\":\"white\",\"lakecolor\":\"white\",\"landcolor\":\"#E5ECF6\",\"showlakes\":true,\"showland\":true,\"subunitcolor\":\"white\"},\"hoverlabel\":{\"align\":\"left\"},\"hovermode\":\"closest\",\"mapbox\":{\"style\":\"light\"},\"paper_bgcolor\":\"white\",\"plot_bgcolor\":\"#E5ECF6\",\"polar\":{\"angularaxis\":{\"gridcolor\":\"white\",\"linecolor\":\"white\",\"ticks\":\"\"},\"bgcolor\":\"#E5ECF6\",\"radialaxis\":{\"gridcolor\":\"white\",\"linecolor\":\"white\",\"ticks\":\"\"}},\"scene\":{\"xaxis\":{\"backgroundcolor\":\"#E5ECF6\",\"gridcolor\":\"white\",\"gridwidth\":2,\"linecolor\":\"white\",\"showbackground\":true,\"ticks\":\"\",\"zerolinecolor\":\"white\"},\"yaxis\":{\"backgroundcolor\":\"#E5ECF6\",\"gridcolor\":\"white\",\"gridwidth\":2,\"linecolor\":\"white\",\"showbackground\":true,\"ticks\":\"\",\"zerolinecolor\":\"white\"},\"zaxis\":{\"backgroundcolor\":\"#E5ECF6\",\"gridcolor\":\"white\",\"gridwidth\":2,\"linecolor\":\"white\",\"showbackground\":true,\"ticks\":\"\",\"zerolinecolor\":\"white\"}},\"shapedefaults\":{\"line\":{\"color\":\"#2a3f5f\"}},\"ternary\":{\"aaxis\":{\"gridcolor\":\"white\",\"linecolor\":\"white\",\"ticks\":\"\"},\"baxis\":{\"gridcolor\":\"white\",\"linecolor\":\"white\",\"ticks\":\"\"},\"bgcolor\":\"#E5ECF6\",\"caxis\":{\"gridcolor\":\"white\",\"linecolor\":\"white\",\"ticks\":\"\"}},\"title\":{\"x\":0.05},\"xaxis\":{\"automargin\":true,\"gridcolor\":\"white\",\"linecolor\":\"white\",\"ticks\":\"\",\"title\":{\"standoff\":15},\"zerolinecolor\":\"white\",\"zerolinewidth\":2},\"yaxis\":{\"automargin\":true,\"gridcolor\":\"white\",\"linecolor\":\"white\",\"ticks\":\"\",\"title\":{\"standoff\":15},\"zerolinecolor\":\"white\",\"zerolinewidth\":2}}},\"yaxis\":{\"title\":{\"text\":\"Transit stations percent change from baseline\"}}},                        {\"responsive\": true}                    ).then(function(){\n",
       "                            \n",
       "var gd = document.getElementById('ca1192ed-7d01-4ac1-bc40-421ee2ee67d8');\n",
       "var x = new MutationObserver(function (mutations, observer) {{\n",
       "        var display = window.getComputedStyle(gd).display;\n",
       "        if (!display || display === 'none') {{\n",
       "            console.log([gd, 'removed!']);\n",
       "            Plotly.purge(gd);\n",
       "            observer.disconnect();\n",
       "        }}\n",
       "}});\n",
       "\n",
       "// Listen for the removal of the full notebook cells\n",
       "var notebookContainer = gd.closest('#notebook-container');\n",
       "if (notebookContainer) {{\n",
       "    x.observe(notebookContainer, {childList: true});\n",
       "}}\n",
       "\n",
       "// Listen for the clearing of the current output cell\n",
       "var outputEl = gd.closest('.output');\n",
       "if (outputEl) {{\n",
       "    x.observe(outputEl, {childList: true});\n",
       "}}\n",
       "\n",
       "                        })                };                });            </script>        </div>"
      ]
     },
     "metadata": {},
     "output_type": "display_data"
    }
   ],
   "source": [
    "a = df.loc[df.sub_region_1.str.contains(\"South Holland\", na=False)]\n",
    "b = df.loc[df.sub_region_1.str.contains(\"North Holland\", na=False)]\n",
    "c = df.loc[df.sub_region_1.str.contains(\"Brabant\", na=False)]\n",
    "d = df.loc[df.sub_region_1.str.contains(\"Utrecht\", na=False)]\n",
    "\n",
    "a['date'] = pd.to_datetime(a['date'])\n",
    "a_new = a.resample('3W', on='date').mean()\n",
    "a_new.reset_index(inplace=True)\n",
    "\n",
    "b['date'] = pd.to_datetime(b['date'])\n",
    "b_new = b.resample('3W', on='date').mean()\n",
    "b_new.reset_index(inplace=True)\n",
    "\n",
    "c['date'] = pd.to_datetime(c['date'])\n",
    "c_new = c.resample('3W', on='date').mean()\n",
    "c_new.reset_index(inplace=True)\n",
    "\n",
    "d['date'] = pd.to_datetime(d['date'])\n",
    "d_new = d.resample('3W', on='date').mean()\n",
    "d_new.reset_index(inplace=True)\n",
    "\n",
    "fig = go.Figure()\n",
    "\n",
    "fig.add_trace(go.Scatter(x=a_new['date'], y=a_new['transit_stations_percent_change_from_baseline'],\n",
    "                         line_shape='spline', name=\"South Holland\"))\n",
    "fig.add_trace(go.Scatter(x=b_new['date'], y=b_new['transit_stations_percent_change_from_baseline'],\n",
    "                         line_shape='spline',name=\"North Holland\"))\n",
    "fig.add_trace(go.Scatter(x=c_new['date'], y=c_new['transit_stations_percent_change_from_baseline'],\n",
    "                         line_shape='spline',name=\"Brabant\"))\n",
    "fig.add_trace(go.Scatter(x=d_new['date'], y=d_new['transit_stations_percent_change_from_baseline'],\n",
    "                         line_shape='spline',name=\"Utrecht\"))\n",
    "fig.update_traces(mode='lines')\n",
    "fig.update_layout(yaxis_title='Transit stations percent change from baseline')\n"
   ]
  },
  {
   "cell_type": "markdown",
   "metadata": {
    "heading_collapsed": true
   },
   "source": [
    "## Geospatial choropleth\n",
    "\n",
    "Visualise the percentage changes from the baseline at either city-level or province-level in a geographical map for a chosen day.\n",
    "\n",
    "[Hint] Here is an example of municipal boundaries of Netherlands. You can download the municipal boundaries of Netherlands from this [link](https://geodata.nationaalgeoregister.nl/cbsgebiedsindelingen/wfs?request=GetFeature&service=WFS&version=2.0.0&typeName=cbs_gemeente_2017_gegeneraliseerd&outputFormat=json) and here is some [code](https://www.cbs.nl/en-gb/onze-diensten/open-data/statline-as-open-data/cartography) to read this file as well.\n",
    "\n",
    "If you cannot find the boundary of your selected country. Feel free to use Netherlands data for this question.\n",
    "\n",
    "DO NOT forget to label the appropriate axes for the visualisations\n",
    "\n",
    "[Optional] Plot and animate for multiple days"
   ]
  },
  {
   "cell_type": "code",
   "execution_count": 115,
   "metadata": {
    "hidden": true
   },
   "outputs": [],
   "source": [
    "geodata_url = 'https://geodata.nationaalgeoregister.nl/cbsgebiedsindelingen/wfs?request=GetFeature&service=WFS&version=2.0.0&typeName=cbs_gemeente_2017_gegeneraliseerd&outputFormat=json'"
   ]
  },
  {
   "cell_type": "code",
   "execution_count": 153,
   "metadata": {},
   "outputs": [
    {
     "data": {
      "text/plain": [
       "Text(0.5, 1.0, 'Transit stations percent change from baseline')"
      ]
     },
     "execution_count": 153,
     "metadata": {},
     "output_type": "execute_result"
    },
    {
     "data": {
      "image/png": "[encoded data removed]",
      "text/plain": [
       "<Figure size 720x576 with 2 Axes>"
      ]
     },
     "metadata": {
      "needs_background": "light"
     },
     "output_type": "display_data"
    }
   ],
   "source": [
    "df_day = df.loc[df.date.str.contains(\"2020-11-29\")]\n",
    "df_day1 = df\n",
    "# Retrieve data with municipal boundaries from PDOK\n",
    "geodata_url = 'https://geodata.nationaalgeoregister.nl/cbsgebiedsindelingen/wfs?request=GetFeature&service=WFS&version=2.0.0&typeName=cbs_gemeente_2017_gegeneraliseerd&outputFormat=json'\n",
    "municipal_boundaries = gpd.read_file(geodata_url)\n",
    "\n",
    "# Link data from Statistics Netherlands to geodata\n",
    "municipal_boundaries = pd.merge(municipal_boundaries, df_day,\n",
    "                               left_on = \"statnaam\", \n",
    "                               right_on = \"sub_region_2\")\n",
    "\n",
    "# code for removing NaN\n",
    "# find_indexes = municipal_boundaries.iloc[:, 15:21].dropna().index.values\n",
    "# municipal_boundaries = municipal_boundaries.iloc[find_indexes,:]\n",
    "\n",
    "# Create a thematic map\n",
    "p = municipal_boundaries.plot(column = 'transit_stations_percent_change_from_baseline', figsize = (10,8),legend=True)\n",
    "p.axis('off')\n",
    "p.set_title('Transit stations percent change from baseline')\n",
    "\n",
    "#Some areas are white. My idea was to remove all provinces with NaN values. The code is written above.However, this did not\n",
    "# solve my problem. What I think is that some provinces do not exsist in the Dataframe, thus geopandas cannot find a correlation.\n"
   ]
  },
  {
   "cell_type": "code",
   "execution_count": null,
   "metadata": {},
   "outputs": [],
   "source": []
  }
 ],
 "metadata": {
  "interpreter": {
   "hash": "aee8b7b246df8f9039afb4144a1f6fd8d2ca17a180786b69acc140d282b71a49"
  },
  "kernelspec": {
   "display_name": "Python 3",
   "language": "python",
   "name": "python3"
  },
  "language_info": {
   "codemirror_mode": {
    "name": "ipython",
    "version": 3
   },
   "file_extension": ".py",
   "mimetype": "text/x-python",
   "name": "python",
   "nbconvert_exporter": "python",
   "pygments_lexer": "ipython3",
   "version": "3.7.10"
  }
 },
 "nbformat": 4,
 "nbformat_minor": 2
}
